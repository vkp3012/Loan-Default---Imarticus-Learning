{
 "cells": [
  {
   "cell_type": "markdown",
   "metadata": {},
   "source": [
    "default_ind => Target Variable"
   ]
  },
  {
   "cell_type": "code",
   "execution_count": 1,
   "metadata": {},
   "outputs": [],
   "source": [
    "import os\n",
    "import numpy as np\n",
    "import pandas as pd\n",
    "import seaborn as sns\n",
    "import matplotlib.pyplot as plt\n",
    "%matplotlib inline"
   ]
  },
  {
   "cell_type": "code",
   "execution_count": 2,
   "metadata": {},
   "outputs": [],
   "source": [
    "os.chdir(r\"/home/aryan/Programs & Projects/Machine Learning/IMARTICUS DATA SCIENCE/CapStone Project/Python Project - Bank Lending\")\n",
    "data = pd.read_csv('XYZCorp_LendingData.txt', sep=\"\\t\", parse_dates=['issue_d'], low_memory=False)"
   ]
  },
  {
   "cell_type": "code",
   "execution_count": 3,
   "metadata": {},
   "outputs": [
    {
     "data": {
      "text/html": [
       "<div>\n",
       "<style scoped>\n",
       "    .dataframe tbody tr th:only-of-type {\n",
       "        vertical-align: middle;\n",
       "    }\n",
       "\n",
       "    .dataframe tbody tr th {\n",
       "        vertical-align: top;\n",
       "    }\n",
       "\n",
       "    .dataframe thead th {\n",
       "        text-align: right;\n",
       "    }\n",
       "</style>\n",
       "<table border=\"1\" class=\"dataframe\">\n",
       "  <thead>\n",
       "    <tr style=\"text-align: right;\">\n",
       "      <th></th>\n",
       "      <th>id</th>\n",
       "      <th>member_id</th>\n",
       "      <th>loan_amnt</th>\n",
       "      <th>funded_amnt</th>\n",
       "      <th>funded_amnt_inv</th>\n",
       "      <th>term</th>\n",
       "      <th>int_rate</th>\n",
       "      <th>installment</th>\n",
       "      <th>grade</th>\n",
       "      <th>sub_grade</th>\n",
       "      <th>emp_title</th>\n",
       "      <th>emp_length</th>\n",
       "      <th>home_ownership</th>\n",
       "      <th>annual_inc</th>\n",
       "      <th>verification_status</th>\n",
       "      <th>issue_d</th>\n",
       "      <th>pymnt_plan</th>\n",
       "      <th>desc</th>\n",
       "      <th>purpose</th>\n",
       "      <th>title</th>\n",
       "      <th>zip_code</th>\n",
       "      <th>addr_state</th>\n",
       "      <th>dti</th>\n",
       "      <th>delinq_2yrs</th>\n",
       "      <th>earliest_cr_line</th>\n",
       "      <th>inq_last_6mths</th>\n",
       "      <th>mths_since_last_delinq</th>\n",
       "      <th>mths_since_last_record</th>\n",
       "      <th>open_acc</th>\n",
       "      <th>pub_rec</th>\n",
       "      <th>revol_bal</th>\n",
       "      <th>revol_util</th>\n",
       "      <th>total_acc</th>\n",
       "      <th>initial_list_status</th>\n",
       "      <th>out_prncp</th>\n",
       "      <th>out_prncp_inv</th>\n",
       "      <th>total_pymnt</th>\n",
       "      <th>total_pymnt_inv</th>\n",
       "      <th>total_rec_prncp</th>\n",
       "      <th>total_rec_int</th>\n",
       "      <th>total_rec_late_fee</th>\n",
       "      <th>recoveries</th>\n",
       "      <th>collection_recovery_fee</th>\n",
       "      <th>last_pymnt_d</th>\n",
       "      <th>last_pymnt_amnt</th>\n",
       "      <th>next_pymnt_d</th>\n",
       "      <th>last_credit_pull_d</th>\n",
       "      <th>collections_12_mths_ex_med</th>\n",
       "      <th>mths_since_last_major_derog</th>\n",
       "      <th>policy_code</th>\n",
       "      <th>application_type</th>\n",
       "      <th>annual_inc_joint</th>\n",
       "      <th>dti_joint</th>\n",
       "      <th>verification_status_joint</th>\n",
       "      <th>acc_now_delinq</th>\n",
       "      <th>tot_coll_amt</th>\n",
       "      <th>tot_cur_bal</th>\n",
       "      <th>open_acc_6m</th>\n",
       "      <th>open_il_6m</th>\n",
       "      <th>open_il_12m</th>\n",
       "      <th>open_il_24m</th>\n",
       "      <th>mths_since_rcnt_il</th>\n",
       "      <th>total_bal_il</th>\n",
       "      <th>il_util</th>\n",
       "      <th>open_rv_12m</th>\n",
       "      <th>open_rv_24m</th>\n",
       "      <th>max_bal_bc</th>\n",
       "      <th>all_util</th>\n",
       "      <th>total_rev_hi_lim</th>\n",
       "      <th>inq_fi</th>\n",
       "      <th>total_cu_tl</th>\n",
       "      <th>inq_last_12m</th>\n",
       "      <th>default_ind</th>\n",
       "    </tr>\n",
       "  </thead>\n",
       "  <tbody>\n",
       "    <tr>\n",
       "      <th>0</th>\n",
       "      <td>1077501</td>\n",
       "      <td>1296599</td>\n",
       "      <td>5000.0</td>\n",
       "      <td>5000.0</td>\n",
       "      <td>4975.0</td>\n",
       "      <td>36 months</td>\n",
       "      <td>10.65</td>\n",
       "      <td>162.87</td>\n",
       "      <td>B</td>\n",
       "      <td>B2</td>\n",
       "      <td>NaN</td>\n",
       "      <td>10+ years</td>\n",
       "      <td>RENT</td>\n",
       "      <td>24000.0</td>\n",
       "      <td>Verified</td>\n",
       "      <td>2011-12-01</td>\n",
       "      <td>n</td>\n",
       "      <td>Borrower added on 12/22/11 &gt; I need to upgra...</td>\n",
       "      <td>credit_card</td>\n",
       "      <td>Computer</td>\n",
       "      <td>860xx</td>\n",
       "      <td>AZ</td>\n",
       "      <td>27.65</td>\n",
       "      <td>0.0</td>\n",
       "      <td>Jan-1985</td>\n",
       "      <td>1.0</td>\n",
       "      <td>NaN</td>\n",
       "      <td>NaN</td>\n",
       "      <td>3.0</td>\n",
       "      <td>0.0</td>\n",
       "      <td>13648.0</td>\n",
       "      <td>83.7</td>\n",
       "      <td>9.0</td>\n",
       "      <td>f</td>\n",
       "      <td>0.0</td>\n",
       "      <td>0.0</td>\n",
       "      <td>5861.071414</td>\n",
       "      <td>5831.78</td>\n",
       "      <td>5000.00</td>\n",
       "      <td>861.07</td>\n",
       "      <td>0.00</td>\n",
       "      <td>0.00</td>\n",
       "      <td>0.00</td>\n",
       "      <td>Jan-2015</td>\n",
       "      <td>171.62</td>\n",
       "      <td>NaN</td>\n",
       "      <td>Jan-2016</td>\n",
       "      <td>0.0</td>\n",
       "      <td>NaN</td>\n",
       "      <td>1.0</td>\n",
       "      <td>INDIVIDUAL</td>\n",
       "      <td>NaN</td>\n",
       "      <td>NaN</td>\n",
       "      <td>NaN</td>\n",
       "      <td>0.0</td>\n",
       "      <td>NaN</td>\n",
       "      <td>NaN</td>\n",
       "      <td>NaN</td>\n",
       "      <td>NaN</td>\n",
       "      <td>NaN</td>\n",
       "      <td>NaN</td>\n",
       "      <td>NaN</td>\n",
       "      <td>NaN</td>\n",
       "      <td>NaN</td>\n",
       "      <td>NaN</td>\n",
       "      <td>NaN</td>\n",
       "      <td>NaN</td>\n",
       "      <td>NaN</td>\n",
       "      <td>NaN</td>\n",
       "      <td>NaN</td>\n",
       "      <td>NaN</td>\n",
       "      <td>NaN</td>\n",
       "      <td>0</td>\n",
       "    </tr>\n",
       "    <tr>\n",
       "      <th>1</th>\n",
       "      <td>1077430</td>\n",
       "      <td>1314167</td>\n",
       "      <td>2500.0</td>\n",
       "      <td>2500.0</td>\n",
       "      <td>2500.0</td>\n",
       "      <td>60 months</td>\n",
       "      <td>15.27</td>\n",
       "      <td>59.83</td>\n",
       "      <td>C</td>\n",
       "      <td>C4</td>\n",
       "      <td>Ryder</td>\n",
       "      <td>&lt; 1 year</td>\n",
       "      <td>RENT</td>\n",
       "      <td>30000.0</td>\n",
       "      <td>Source Verified</td>\n",
       "      <td>2011-12-01</td>\n",
       "      <td>n</td>\n",
       "      <td>Borrower added on 12/22/11 &gt; I plan to use t...</td>\n",
       "      <td>car</td>\n",
       "      <td>bike</td>\n",
       "      <td>309xx</td>\n",
       "      <td>GA</td>\n",
       "      <td>1.00</td>\n",
       "      <td>0.0</td>\n",
       "      <td>Apr-1999</td>\n",
       "      <td>5.0</td>\n",
       "      <td>NaN</td>\n",
       "      <td>NaN</td>\n",
       "      <td>3.0</td>\n",
       "      <td>0.0</td>\n",
       "      <td>1687.0</td>\n",
       "      <td>9.4</td>\n",
       "      <td>4.0</td>\n",
       "      <td>f</td>\n",
       "      <td>0.0</td>\n",
       "      <td>0.0</td>\n",
       "      <td>1008.710000</td>\n",
       "      <td>1008.71</td>\n",
       "      <td>456.46</td>\n",
       "      <td>435.17</td>\n",
       "      <td>0.00</td>\n",
       "      <td>117.08</td>\n",
       "      <td>1.11</td>\n",
       "      <td>Apr-2013</td>\n",
       "      <td>119.66</td>\n",
       "      <td>NaN</td>\n",
       "      <td>Sep-2013</td>\n",
       "      <td>0.0</td>\n",
       "      <td>NaN</td>\n",
       "      <td>1.0</td>\n",
       "      <td>INDIVIDUAL</td>\n",
       "      <td>NaN</td>\n",
       "      <td>NaN</td>\n",
       "      <td>NaN</td>\n",
       "      <td>0.0</td>\n",
       "      <td>NaN</td>\n",
       "      <td>NaN</td>\n",
       "      <td>NaN</td>\n",
       "      <td>NaN</td>\n",
       "      <td>NaN</td>\n",
       "      <td>NaN</td>\n",
       "      <td>NaN</td>\n",
       "      <td>NaN</td>\n",
       "      <td>NaN</td>\n",
       "      <td>NaN</td>\n",
       "      <td>NaN</td>\n",
       "      <td>NaN</td>\n",
       "      <td>NaN</td>\n",
       "      <td>NaN</td>\n",
       "      <td>NaN</td>\n",
       "      <td>NaN</td>\n",
       "      <td>NaN</td>\n",
       "      <td>1</td>\n",
       "    </tr>\n",
       "    <tr>\n",
       "      <th>2</th>\n",
       "      <td>1077175</td>\n",
       "      <td>1313524</td>\n",
       "      <td>2400.0</td>\n",
       "      <td>2400.0</td>\n",
       "      <td>2400.0</td>\n",
       "      <td>36 months</td>\n",
       "      <td>15.96</td>\n",
       "      <td>84.33</td>\n",
       "      <td>C</td>\n",
       "      <td>C5</td>\n",
       "      <td>NaN</td>\n",
       "      <td>10+ years</td>\n",
       "      <td>RENT</td>\n",
       "      <td>12252.0</td>\n",
       "      <td>Not Verified</td>\n",
       "      <td>2011-12-01</td>\n",
       "      <td>n</td>\n",
       "      <td>NaN</td>\n",
       "      <td>small_business</td>\n",
       "      <td>real estate business</td>\n",
       "      <td>606xx</td>\n",
       "      <td>IL</td>\n",
       "      <td>8.72</td>\n",
       "      <td>0.0</td>\n",
       "      <td>Nov-2001</td>\n",
       "      <td>2.0</td>\n",
       "      <td>NaN</td>\n",
       "      <td>NaN</td>\n",
       "      <td>2.0</td>\n",
       "      <td>0.0</td>\n",
       "      <td>2956.0</td>\n",
       "      <td>98.5</td>\n",
       "      <td>10.0</td>\n",
       "      <td>f</td>\n",
       "      <td>0.0</td>\n",
       "      <td>0.0</td>\n",
       "      <td>3003.653644</td>\n",
       "      <td>3003.65</td>\n",
       "      <td>2400.00</td>\n",
       "      <td>603.65</td>\n",
       "      <td>0.00</td>\n",
       "      <td>0.00</td>\n",
       "      <td>0.00</td>\n",
       "      <td>Jun-2014</td>\n",
       "      <td>649.91</td>\n",
       "      <td>NaN</td>\n",
       "      <td>Jan-2016</td>\n",
       "      <td>0.0</td>\n",
       "      <td>NaN</td>\n",
       "      <td>1.0</td>\n",
       "      <td>INDIVIDUAL</td>\n",
       "      <td>NaN</td>\n",
       "      <td>NaN</td>\n",
       "      <td>NaN</td>\n",
       "      <td>0.0</td>\n",
       "      <td>NaN</td>\n",
       "      <td>NaN</td>\n",
       "      <td>NaN</td>\n",
       "      <td>NaN</td>\n",
       "      <td>NaN</td>\n",
       "      <td>NaN</td>\n",
       "      <td>NaN</td>\n",
       "      <td>NaN</td>\n",
       "      <td>NaN</td>\n",
       "      <td>NaN</td>\n",
       "      <td>NaN</td>\n",
       "      <td>NaN</td>\n",
       "      <td>NaN</td>\n",
       "      <td>NaN</td>\n",
       "      <td>NaN</td>\n",
       "      <td>NaN</td>\n",
       "      <td>NaN</td>\n",
       "      <td>0</td>\n",
       "    </tr>\n",
       "    <tr>\n",
       "      <th>3</th>\n",
       "      <td>1076863</td>\n",
       "      <td>1277178</td>\n",
       "      <td>10000.0</td>\n",
       "      <td>10000.0</td>\n",
       "      <td>10000.0</td>\n",
       "      <td>36 months</td>\n",
       "      <td>13.49</td>\n",
       "      <td>339.31</td>\n",
       "      <td>C</td>\n",
       "      <td>C1</td>\n",
       "      <td>AIR RESOURCES BOARD</td>\n",
       "      <td>10+ years</td>\n",
       "      <td>RENT</td>\n",
       "      <td>49200.0</td>\n",
       "      <td>Source Verified</td>\n",
       "      <td>2011-12-01</td>\n",
       "      <td>n</td>\n",
       "      <td>Borrower added on 12/21/11 &gt; to pay for prop...</td>\n",
       "      <td>other</td>\n",
       "      <td>personel</td>\n",
       "      <td>917xx</td>\n",
       "      <td>CA</td>\n",
       "      <td>20.00</td>\n",
       "      <td>0.0</td>\n",
       "      <td>Feb-1996</td>\n",
       "      <td>1.0</td>\n",
       "      <td>35.0</td>\n",
       "      <td>NaN</td>\n",
       "      <td>10.0</td>\n",
       "      <td>0.0</td>\n",
       "      <td>5598.0</td>\n",
       "      <td>21.0</td>\n",
       "      <td>37.0</td>\n",
       "      <td>f</td>\n",
       "      <td>0.0</td>\n",
       "      <td>0.0</td>\n",
       "      <td>12226.302212</td>\n",
       "      <td>12226.30</td>\n",
       "      <td>10000.00</td>\n",
       "      <td>2209.33</td>\n",
       "      <td>16.97</td>\n",
       "      <td>0.00</td>\n",
       "      <td>0.00</td>\n",
       "      <td>Jan-2015</td>\n",
       "      <td>357.48</td>\n",
       "      <td>NaN</td>\n",
       "      <td>Jan-2015</td>\n",
       "      <td>0.0</td>\n",
       "      <td>NaN</td>\n",
       "      <td>1.0</td>\n",
       "      <td>INDIVIDUAL</td>\n",
       "      <td>NaN</td>\n",
       "      <td>NaN</td>\n",
       "      <td>NaN</td>\n",
       "      <td>0.0</td>\n",
       "      <td>NaN</td>\n",
       "      <td>NaN</td>\n",
       "      <td>NaN</td>\n",
       "      <td>NaN</td>\n",
       "      <td>NaN</td>\n",
       "      <td>NaN</td>\n",
       "      <td>NaN</td>\n",
       "      <td>NaN</td>\n",
       "      <td>NaN</td>\n",
       "      <td>NaN</td>\n",
       "      <td>NaN</td>\n",
       "      <td>NaN</td>\n",
       "      <td>NaN</td>\n",
       "      <td>NaN</td>\n",
       "      <td>NaN</td>\n",
       "      <td>NaN</td>\n",
       "      <td>NaN</td>\n",
       "      <td>0</td>\n",
       "    </tr>\n",
       "    <tr>\n",
       "      <th>4</th>\n",
       "      <td>1075358</td>\n",
       "      <td>1311748</td>\n",
       "      <td>3000.0</td>\n",
       "      <td>3000.0</td>\n",
       "      <td>3000.0</td>\n",
       "      <td>60 months</td>\n",
       "      <td>12.69</td>\n",
       "      <td>67.79</td>\n",
       "      <td>B</td>\n",
       "      <td>B5</td>\n",
       "      <td>University Medical Group</td>\n",
       "      <td>1 year</td>\n",
       "      <td>RENT</td>\n",
       "      <td>80000.0</td>\n",
       "      <td>Source Verified</td>\n",
       "      <td>2011-12-01</td>\n",
       "      <td>n</td>\n",
       "      <td>Borrower added on 12/21/11 &gt; I plan on combi...</td>\n",
       "      <td>other</td>\n",
       "      <td>Personal</td>\n",
       "      <td>972xx</td>\n",
       "      <td>OR</td>\n",
       "      <td>17.94</td>\n",
       "      <td>0.0</td>\n",
       "      <td>Jan-1996</td>\n",
       "      <td>0.0</td>\n",
       "      <td>38.0</td>\n",
       "      <td>NaN</td>\n",
       "      <td>15.0</td>\n",
       "      <td>0.0</td>\n",
       "      <td>27783.0</td>\n",
       "      <td>53.9</td>\n",
       "      <td>38.0</td>\n",
       "      <td>f</td>\n",
       "      <td>766.9</td>\n",
       "      <td>766.9</td>\n",
       "      <td>3242.170000</td>\n",
       "      <td>3242.17</td>\n",
       "      <td>2233.10</td>\n",
       "      <td>1009.07</td>\n",
       "      <td>0.00</td>\n",
       "      <td>0.00</td>\n",
       "      <td>0.00</td>\n",
       "      <td>Jan-2016</td>\n",
       "      <td>67.79</td>\n",
       "      <td>Feb-2016</td>\n",
       "      <td>Jan-2016</td>\n",
       "      <td>0.0</td>\n",
       "      <td>NaN</td>\n",
       "      <td>1.0</td>\n",
       "      <td>INDIVIDUAL</td>\n",
       "      <td>NaN</td>\n",
       "      <td>NaN</td>\n",
       "      <td>NaN</td>\n",
       "      <td>0.0</td>\n",
       "      <td>NaN</td>\n",
       "      <td>NaN</td>\n",
       "      <td>NaN</td>\n",
       "      <td>NaN</td>\n",
       "      <td>NaN</td>\n",
       "      <td>NaN</td>\n",
       "      <td>NaN</td>\n",
       "      <td>NaN</td>\n",
       "      <td>NaN</td>\n",
       "      <td>NaN</td>\n",
       "      <td>NaN</td>\n",
       "      <td>NaN</td>\n",
       "      <td>NaN</td>\n",
       "      <td>NaN</td>\n",
       "      <td>NaN</td>\n",
       "      <td>NaN</td>\n",
       "      <td>NaN</td>\n",
       "      <td>0</td>\n",
       "    </tr>\n",
       "  </tbody>\n",
       "</table>\n",
       "</div>"
      ],
      "text/plain": [
       "        id  member_id  loan_amnt  funded_amnt  funded_amnt_inv        term  \\\n",
       "0  1077501    1296599     5000.0       5000.0           4975.0   36 months   \n",
       "1  1077430    1314167     2500.0       2500.0           2500.0   60 months   \n",
       "2  1077175    1313524     2400.0       2400.0           2400.0   36 months   \n",
       "3  1076863    1277178    10000.0      10000.0          10000.0   36 months   \n",
       "4  1075358    1311748     3000.0       3000.0           3000.0   60 months   \n",
       "\n",
       "   int_rate  installment grade sub_grade                 emp_title emp_length  \\\n",
       "0     10.65       162.87     B        B2                       NaN  10+ years   \n",
       "1     15.27        59.83     C        C4                     Ryder   < 1 year   \n",
       "2     15.96        84.33     C        C5                       NaN  10+ years   \n",
       "3     13.49       339.31     C        C1       AIR RESOURCES BOARD  10+ years   \n",
       "4     12.69        67.79     B        B5  University Medical Group     1 year   \n",
       "\n",
       "  home_ownership  annual_inc verification_status    issue_d pymnt_plan  \\\n",
       "0           RENT     24000.0            Verified 2011-12-01          n   \n",
       "1           RENT     30000.0     Source Verified 2011-12-01          n   \n",
       "2           RENT     12252.0        Not Verified 2011-12-01          n   \n",
       "3           RENT     49200.0     Source Verified 2011-12-01          n   \n",
       "4           RENT     80000.0     Source Verified 2011-12-01          n   \n",
       "\n",
       "                                                desc         purpose  \\\n",
       "0    Borrower added on 12/22/11 > I need to upgra...     credit_card   \n",
       "1    Borrower added on 12/22/11 > I plan to use t...             car   \n",
       "2                                                NaN  small_business   \n",
       "3    Borrower added on 12/21/11 > to pay for prop...           other   \n",
       "4    Borrower added on 12/21/11 > I plan on combi...           other   \n",
       "\n",
       "                  title zip_code addr_state    dti  delinq_2yrs  \\\n",
       "0              Computer    860xx         AZ  27.65          0.0   \n",
       "1                  bike    309xx         GA   1.00          0.0   \n",
       "2  real estate business    606xx         IL   8.72          0.0   \n",
       "3              personel    917xx         CA  20.00          0.0   \n",
       "4              Personal    972xx         OR  17.94          0.0   \n",
       "\n",
       "  earliest_cr_line  inq_last_6mths  mths_since_last_delinq  \\\n",
       "0         Jan-1985             1.0                     NaN   \n",
       "1         Apr-1999             5.0                     NaN   \n",
       "2         Nov-2001             2.0                     NaN   \n",
       "3         Feb-1996             1.0                    35.0   \n",
       "4         Jan-1996             0.0                    38.0   \n",
       "\n",
       "   mths_since_last_record  open_acc  pub_rec  revol_bal  revol_util  \\\n",
       "0                     NaN       3.0      0.0    13648.0        83.7   \n",
       "1                     NaN       3.0      0.0     1687.0         9.4   \n",
       "2                     NaN       2.0      0.0     2956.0        98.5   \n",
       "3                     NaN      10.0      0.0     5598.0        21.0   \n",
       "4                     NaN      15.0      0.0    27783.0        53.9   \n",
       "\n",
       "   total_acc initial_list_status  out_prncp  out_prncp_inv   total_pymnt  \\\n",
       "0        9.0                   f        0.0            0.0   5861.071414   \n",
       "1        4.0                   f        0.0            0.0   1008.710000   \n",
       "2       10.0                   f        0.0            0.0   3003.653644   \n",
       "3       37.0                   f        0.0            0.0  12226.302212   \n",
       "4       38.0                   f      766.9          766.9   3242.170000   \n",
       "\n",
       "   total_pymnt_inv  total_rec_prncp  total_rec_int  total_rec_late_fee  \\\n",
       "0          5831.78          5000.00         861.07                0.00   \n",
       "1          1008.71           456.46         435.17                0.00   \n",
       "2          3003.65          2400.00         603.65                0.00   \n",
       "3         12226.30         10000.00        2209.33               16.97   \n",
       "4          3242.17          2233.10        1009.07                0.00   \n",
       "\n",
       "   recoveries  collection_recovery_fee last_pymnt_d  last_pymnt_amnt  \\\n",
       "0        0.00                     0.00     Jan-2015           171.62   \n",
       "1      117.08                     1.11     Apr-2013           119.66   \n",
       "2        0.00                     0.00     Jun-2014           649.91   \n",
       "3        0.00                     0.00     Jan-2015           357.48   \n",
       "4        0.00                     0.00     Jan-2016            67.79   \n",
       "\n",
       "  next_pymnt_d last_credit_pull_d  collections_12_mths_ex_med  \\\n",
       "0          NaN           Jan-2016                         0.0   \n",
       "1          NaN           Sep-2013                         0.0   \n",
       "2          NaN           Jan-2016                         0.0   \n",
       "3          NaN           Jan-2015                         0.0   \n",
       "4     Feb-2016           Jan-2016                         0.0   \n",
       "\n",
       "   mths_since_last_major_derog  policy_code application_type  \\\n",
       "0                          NaN          1.0       INDIVIDUAL   \n",
       "1                          NaN          1.0       INDIVIDUAL   \n",
       "2                          NaN          1.0       INDIVIDUAL   \n",
       "3                          NaN          1.0       INDIVIDUAL   \n",
       "4                          NaN          1.0       INDIVIDUAL   \n",
       "\n",
       "   annual_inc_joint  dti_joint verification_status_joint  acc_now_delinq  \\\n",
       "0               NaN        NaN                       NaN             0.0   \n",
       "1               NaN        NaN                       NaN             0.0   \n",
       "2               NaN        NaN                       NaN             0.0   \n",
       "3               NaN        NaN                       NaN             0.0   \n",
       "4               NaN        NaN                       NaN             0.0   \n",
       "\n",
       "   tot_coll_amt  tot_cur_bal  open_acc_6m  open_il_6m  open_il_12m  \\\n",
       "0           NaN          NaN          NaN         NaN          NaN   \n",
       "1           NaN          NaN          NaN         NaN          NaN   \n",
       "2           NaN          NaN          NaN         NaN          NaN   \n",
       "3           NaN          NaN          NaN         NaN          NaN   \n",
       "4           NaN          NaN          NaN         NaN          NaN   \n",
       "\n",
       "   open_il_24m  mths_since_rcnt_il  total_bal_il  il_util  open_rv_12m  \\\n",
       "0          NaN                 NaN           NaN      NaN          NaN   \n",
       "1          NaN                 NaN           NaN      NaN          NaN   \n",
       "2          NaN                 NaN           NaN      NaN          NaN   \n",
       "3          NaN                 NaN           NaN      NaN          NaN   \n",
       "4          NaN                 NaN           NaN      NaN          NaN   \n",
       "\n",
       "   open_rv_24m  max_bal_bc  all_util  total_rev_hi_lim  inq_fi  total_cu_tl  \\\n",
       "0          NaN         NaN       NaN               NaN     NaN          NaN   \n",
       "1          NaN         NaN       NaN               NaN     NaN          NaN   \n",
       "2          NaN         NaN       NaN               NaN     NaN          NaN   \n",
       "3          NaN         NaN       NaN               NaN     NaN          NaN   \n",
       "4          NaN         NaN       NaN               NaN     NaN          NaN   \n",
       "\n",
       "   inq_last_12m  default_ind  \n",
       "0           NaN            0  \n",
       "1           NaN            1  \n",
       "2           NaN            0  \n",
       "3           NaN            0  \n",
       "4           NaN            0  "
      ]
     },
     "execution_count": 3,
     "metadata": {},
     "output_type": "execute_result"
    }
   ],
   "source": [
    "pd.set_option('display.max_columns', None)\n",
    "data.head()"
   ]
  },
  {
   "cell_type": "code",
   "execution_count": 4,
   "metadata": {},
   "outputs": [
    {
     "data": {
      "text/plain": [
       "(855969, 73)"
      ]
     },
     "execution_count": 4,
     "metadata": {},
     "output_type": "execute_result"
    }
   ],
   "source": [
    "data.shape"
   ]
  },
  {
   "cell_type": "code",
   "execution_count": 5,
   "metadata": {},
   "outputs": [
    {
     "name": "stdout",
     "output_type": "stream",
     "text": [
      "<class 'pandas.core.frame.DataFrame'>\n",
      "RangeIndex: 855969 entries, 0 to 855968\n",
      "Data columns (total 73 columns):\n",
      " #   Column                       Non-Null Count   Dtype         \n",
      "---  ------                       --------------   -----         \n",
      " 0   id                           855969 non-null  int64         \n",
      " 1   member_id                    855969 non-null  int64         \n",
      " 2   loan_amnt                    855969 non-null  float64       \n",
      " 3   funded_amnt                  855969 non-null  float64       \n",
      " 4   funded_amnt_inv              855969 non-null  float64       \n",
      " 5   term                         855969 non-null  object        \n",
      " 6   int_rate                     855969 non-null  float64       \n",
      " 7   installment                  855969 non-null  float64       \n",
      " 8   grade                        855969 non-null  object        \n",
      " 9   sub_grade                    855969 non-null  object        \n",
      " 10  emp_title                    806526 non-null  object        \n",
      " 11  emp_length                   812908 non-null  object        \n",
      " 12  home_ownership               855969 non-null  object        \n",
      " 13  annual_inc                   855969 non-null  float64       \n",
      " 14  verification_status          855969 non-null  object        \n",
      " 15  issue_d                      855969 non-null  datetime64[ns]\n",
      " 16  pymnt_plan                   855969 non-null  object        \n",
      " 17  desc                         121812 non-null  object        \n",
      " 18  purpose                      855969 non-null  object        \n",
      " 19  title                        855936 non-null  object        \n",
      " 20  zip_code                     855969 non-null  object        \n",
      " 21  addr_state                   855969 non-null  object        \n",
      " 22  dti                          855969 non-null  float64       \n",
      " 23  delinq_2yrs                  855969 non-null  float64       \n",
      " 24  earliest_cr_line             855969 non-null  object        \n",
      " 25  inq_last_6mths               855969 non-null  float64       \n",
      " 26  mths_since_last_delinq       416157 non-null  float64       \n",
      " 27  mths_since_last_record       131184 non-null  float64       \n",
      " 28  open_acc                     855969 non-null  float64       \n",
      " 29  pub_rec                      855969 non-null  float64       \n",
      " 30  revol_bal                    855969 non-null  float64       \n",
      " 31  revol_util                   855523 non-null  float64       \n",
      " 32  total_acc                    855969 non-null  float64       \n",
      " 33  initial_list_status          855969 non-null  object        \n",
      " 34  out_prncp                    855969 non-null  float64       \n",
      " 35  out_prncp_inv                855969 non-null  float64       \n",
      " 36  total_pymnt                  855969 non-null  float64       \n",
      " 37  total_pymnt_inv              855969 non-null  float64       \n",
      " 38  total_rec_prncp              855969 non-null  float64       \n",
      " 39  total_rec_int                855969 non-null  float64       \n",
      " 40  total_rec_late_fee           855969 non-null  float64       \n",
      " 41  recoveries                   855969 non-null  float64       \n",
      " 42  collection_recovery_fee      855969 non-null  float64       \n",
      " 43  last_pymnt_d                 847107 non-null  object        \n",
      " 44  last_pymnt_amnt              855969 non-null  float64       \n",
      " 45  next_pymnt_d                 602998 non-null  object        \n",
      " 46  last_credit_pull_d           855919 non-null  object        \n",
      " 47  collections_12_mths_ex_med   855913 non-null  float64       \n",
      " 48  mths_since_last_major_derog  213139 non-null  float64       \n",
      " 49  policy_code                  855969 non-null  float64       \n",
      " 50  application_type             855969 non-null  object        \n",
      " 51  annual_inc_joint             442 non-null     float64       \n",
      " 52  dti_joint                    440 non-null     float64       \n",
      " 53  verification_status_joint    442 non-null     object        \n",
      " 54  acc_now_delinq               855969 non-null  float64       \n",
      " 55  tot_coll_amt                 788656 non-null  float64       \n",
      " 56  tot_cur_bal                  788656 non-null  float64       \n",
      " 57  open_acc_6m                  13288 non-null   float64       \n",
      " 58  open_il_6m                   13288 non-null   float64       \n",
      " 59  open_il_12m                  13288 non-null   float64       \n",
      " 60  open_il_24m                  13288 non-null   float64       \n",
      " 61  mths_since_rcnt_il           12934 non-null   float64       \n",
      " 62  total_bal_il                 13288 non-null   float64       \n",
      " 63  il_util                      11609 non-null   float64       \n",
      " 64  open_rv_12m                  13288 non-null   float64       \n",
      " 65  open_rv_24m                  13288 non-null   float64       \n",
      " 66  max_bal_bc                   13288 non-null   float64       \n",
      " 67  all_util                     13288 non-null   float64       \n",
      " 68  total_rev_hi_lim             788656 non-null  float64       \n",
      " 69  inq_fi                       13288 non-null   float64       \n",
      " 70  total_cu_tl                  13288 non-null   float64       \n",
      " 71  inq_last_12m                 13288 non-null   float64       \n",
      " 72  default_ind                  855969 non-null  int64         \n",
      "dtypes: datetime64[ns](1), float64(49), int64(3), object(20)\n",
      "memory usage: 476.7+ MB\n"
     ]
    }
   ],
   "source": [
    "data.info()"
   ]
  },
  {
   "cell_type": "code",
   "execution_count": 6,
   "metadata": {},
   "outputs": [
    {
     "data": {
      "text/html": [
       "<div>\n",
       "<style scoped>\n",
       "    .dataframe tbody tr th:only-of-type {\n",
       "        vertical-align: middle;\n",
       "    }\n",
       "\n",
       "    .dataframe tbody tr th {\n",
       "        vertical-align: top;\n",
       "    }\n",
       "\n",
       "    .dataframe thead th {\n",
       "        text-align: right;\n",
       "    }\n",
       "</style>\n",
       "<table border=\"1\" class=\"dataframe\">\n",
       "  <thead>\n",
       "    <tr style=\"text-align: right;\">\n",
       "      <th></th>\n",
       "      <th>id</th>\n",
       "      <th>member_id</th>\n",
       "      <th>loan_amnt</th>\n",
       "      <th>funded_amnt</th>\n",
       "      <th>funded_amnt_inv</th>\n",
       "      <th>int_rate</th>\n",
       "      <th>installment</th>\n",
       "      <th>annual_inc</th>\n",
       "      <th>dti</th>\n",
       "      <th>delinq_2yrs</th>\n",
       "      <th>inq_last_6mths</th>\n",
       "      <th>mths_since_last_delinq</th>\n",
       "      <th>mths_since_last_record</th>\n",
       "      <th>open_acc</th>\n",
       "      <th>pub_rec</th>\n",
       "      <th>revol_bal</th>\n",
       "      <th>revol_util</th>\n",
       "      <th>total_acc</th>\n",
       "      <th>out_prncp</th>\n",
       "      <th>out_prncp_inv</th>\n",
       "      <th>total_pymnt</th>\n",
       "      <th>total_pymnt_inv</th>\n",
       "      <th>total_rec_prncp</th>\n",
       "      <th>total_rec_int</th>\n",
       "      <th>total_rec_late_fee</th>\n",
       "      <th>recoveries</th>\n",
       "      <th>collection_recovery_fee</th>\n",
       "      <th>last_pymnt_amnt</th>\n",
       "      <th>collections_12_mths_ex_med</th>\n",
       "      <th>mths_since_last_major_derog</th>\n",
       "      <th>policy_code</th>\n",
       "      <th>annual_inc_joint</th>\n",
       "      <th>dti_joint</th>\n",
       "      <th>acc_now_delinq</th>\n",
       "      <th>tot_coll_amt</th>\n",
       "      <th>tot_cur_bal</th>\n",
       "      <th>open_acc_6m</th>\n",
       "      <th>open_il_6m</th>\n",
       "      <th>open_il_12m</th>\n",
       "      <th>open_il_24m</th>\n",
       "      <th>mths_since_rcnt_il</th>\n",
       "      <th>total_bal_il</th>\n",
       "      <th>il_util</th>\n",
       "      <th>open_rv_12m</th>\n",
       "      <th>open_rv_24m</th>\n",
       "      <th>max_bal_bc</th>\n",
       "      <th>all_util</th>\n",
       "      <th>total_rev_hi_lim</th>\n",
       "      <th>inq_fi</th>\n",
       "      <th>total_cu_tl</th>\n",
       "      <th>inq_last_12m</th>\n",
       "      <th>default_ind</th>\n",
       "    </tr>\n",
       "  </thead>\n",
       "  <tbody>\n",
       "    <tr>\n",
       "      <th>count</th>\n",
       "      <td>8.559690e+05</td>\n",
       "      <td>8.559690e+05</td>\n",
       "      <td>855969.000000</td>\n",
       "      <td>855969.000000</td>\n",
       "      <td>855969.000000</td>\n",
       "      <td>855969.000000</td>\n",
       "      <td>855969.000000</td>\n",
       "      <td>8.559690e+05</td>\n",
       "      <td>855969.000000</td>\n",
       "      <td>855969.000000</td>\n",
       "      <td>855969.000000</td>\n",
       "      <td>416157.000000</td>\n",
       "      <td>131184.000000</td>\n",
       "      <td>855969.000000</td>\n",
       "      <td>855969.000000</td>\n",
       "      <td>8.559690e+05</td>\n",
       "      <td>855523.000000</td>\n",
       "      <td>855969.000000</td>\n",
       "      <td>855969.000000</td>\n",
       "      <td>855969.000000</td>\n",
       "      <td>855969.000000</td>\n",
       "      <td>855969.00000</td>\n",
       "      <td>855969.000000</td>\n",
       "      <td>855969.000000</td>\n",
       "      <td>855969.000000</td>\n",
       "      <td>855969.000000</td>\n",
       "      <td>855969.000000</td>\n",
       "      <td>855969.000000</td>\n",
       "      <td>855913.000000</td>\n",
       "      <td>213139.000000</td>\n",
       "      <td>855969.0</td>\n",
       "      <td>442.000000</td>\n",
       "      <td>440.000000</td>\n",
       "      <td>855969.000000</td>\n",
       "      <td>7.886560e+05</td>\n",
       "      <td>7.886560e+05</td>\n",
       "      <td>13288.000000</td>\n",
       "      <td>13288.000000</td>\n",
       "      <td>13288.000000</td>\n",
       "      <td>13288.000000</td>\n",
       "      <td>12934.000000</td>\n",
       "      <td>13288.000000</td>\n",
       "      <td>11609.000000</td>\n",
       "      <td>13288.000000</td>\n",
       "      <td>13288.000000</td>\n",
       "      <td>13288.000000</td>\n",
       "      <td>13288.000000</td>\n",
       "      <td>7.886560e+05</td>\n",
       "      <td>13288.000000</td>\n",
       "      <td>13288.000000</td>\n",
       "      <td>13288.000000</td>\n",
       "      <td>855969.000000</td>\n",
       "    </tr>\n",
       "    <tr>\n",
       "      <th>mean</th>\n",
       "      <td>3.224073e+07</td>\n",
       "      <td>3.476269e+07</td>\n",
       "      <td>14745.571335</td>\n",
       "      <td>14732.378305</td>\n",
       "      <td>14700.061226</td>\n",
       "      <td>13.192320</td>\n",
       "      <td>436.238072</td>\n",
       "      <td>7.507119e+04</td>\n",
       "      <td>18.122165</td>\n",
       "      <td>0.311621</td>\n",
       "      <td>0.680915</td>\n",
       "      <td>34.149943</td>\n",
       "      <td>70.463959</td>\n",
       "      <td>11.542447</td>\n",
       "      <td>0.194537</td>\n",
       "      <td>1.691053e+04</td>\n",
       "      <td>55.019405</td>\n",
       "      <td>25.269269</td>\n",
       "      <td>8284.830230</td>\n",
       "      <td>8281.449347</td>\n",
       "      <td>7653.296336</td>\n",
       "      <td>7622.22052</td>\n",
       "      <td>5850.841088</td>\n",
       "      <td>1755.046221</td>\n",
       "      <td>0.319530</td>\n",
       "      <td>47.089499</td>\n",
       "      <td>4.951227</td>\n",
       "      <td>2225.985295</td>\n",
       "      <td>0.014230</td>\n",
       "      <td>44.101450</td>\n",
       "      <td>1.0</td>\n",
       "      <td>107412.163982</td>\n",
       "      <td>18.318477</td>\n",
       "      <td>0.004944</td>\n",
       "      <td>2.254129e+02</td>\n",
       "      <td>1.397662e+05</td>\n",
       "      <td>1.072998</td>\n",
       "      <td>2.945665</td>\n",
       "      <td>0.749323</td>\n",
       "      <td>1.666767</td>\n",
       "      <td>20.833153</td>\n",
       "      <td>36511.541391</td>\n",
       "      <td>71.486993</td>\n",
       "      <td>1.354305</td>\n",
       "      <td>2.945515</td>\n",
       "      <td>5840.443332</td>\n",
       "      <td>61.024526</td>\n",
       "      <td>3.216357e+04</td>\n",
       "      <td>0.947772</td>\n",
       "      <td>1.524232</td>\n",
       "      <td>1.841963</td>\n",
       "      <td>0.054286</td>\n",
       "    </tr>\n",
       "    <tr>\n",
       "      <th>std</th>\n",
       "      <td>2.271969e+07</td>\n",
       "      <td>2.399418e+07</td>\n",
       "      <td>8425.340005</td>\n",
       "      <td>8419.471653</td>\n",
       "      <td>8425.805478</td>\n",
       "      <td>4.368365</td>\n",
       "      <td>243.726876</td>\n",
       "      <td>6.426447e+04</td>\n",
       "      <td>17.423629</td>\n",
       "      <td>0.857189</td>\n",
       "      <td>0.964033</td>\n",
       "      <td>21.868500</td>\n",
       "      <td>27.827120</td>\n",
       "      <td>5.308094</td>\n",
       "      <td>0.581585</td>\n",
       "      <td>2.222374e+04</td>\n",
       "      <td>23.811585</td>\n",
       "      <td>11.818841</td>\n",
       "      <td>8461.946669</td>\n",
       "      <td>8458.496422</td>\n",
       "      <td>7909.383591</td>\n",
       "      <td>7885.15640</td>\n",
       "      <td>6676.410888</td>\n",
       "      <td>2081.692980</td>\n",
       "      <td>3.609399</td>\n",
       "      <td>413.136043</td>\n",
       "      <td>62.478569</td>\n",
       "      <td>4864.966593</td>\n",
       "      <td>0.133712</td>\n",
       "      <td>22.164907</td>\n",
       "      <td>0.0</td>\n",
       "      <td>47987.608637</td>\n",
       "      <td>7.221855</td>\n",
       "      <td>0.077333</td>\n",
       "      <td>1.048945e+04</td>\n",
       "      <td>1.539385e+05</td>\n",
       "      <td>1.206939</td>\n",
       "      <td>3.080330</td>\n",
       "      <td>0.986169</td>\n",
       "      <td>1.685394</td>\n",
       "      <td>26.739237</td>\n",
       "      <td>42492.757796</td>\n",
       "      <td>23.015293</td>\n",
       "      <td>1.483710</td>\n",
       "      <td>2.595313</td>\n",
       "      <td>5108.500262</td>\n",
       "      <td>20.018117</td>\n",
       "      <td>3.769964e+04</td>\n",
       "      <td>1.441667</td>\n",
       "      <td>2.697601</td>\n",
       "      <td>2.975049</td>\n",
       "      <td>0.226581</td>\n",
       "    </tr>\n",
       "    <tr>\n",
       "      <th>min</th>\n",
       "      <td>5.473400e+04</td>\n",
       "      <td>7.069900e+04</td>\n",
       "      <td>500.000000</td>\n",
       "      <td>500.000000</td>\n",
       "      <td>0.000000</td>\n",
       "      <td>5.320000</td>\n",
       "      <td>15.690000</td>\n",
       "      <td>0.000000e+00</td>\n",
       "      <td>0.000000</td>\n",
       "      <td>0.000000</td>\n",
       "      <td>0.000000</td>\n",
       "      <td>0.000000</td>\n",
       "      <td>0.000000</td>\n",
       "      <td>0.000000</td>\n",
       "      <td>0.000000</td>\n",
       "      <td>0.000000e+00</td>\n",
       "      <td>0.000000</td>\n",
       "      <td>2.000000</td>\n",
       "      <td>0.000000</td>\n",
       "      <td>0.000000</td>\n",
       "      <td>0.000000</td>\n",
       "      <td>0.00000</td>\n",
       "      <td>0.000000</td>\n",
       "      <td>0.000000</td>\n",
       "      <td>0.000000</td>\n",
       "      <td>0.000000</td>\n",
       "      <td>0.000000</td>\n",
       "      <td>0.000000</td>\n",
       "      <td>0.000000</td>\n",
       "      <td>0.000000</td>\n",
       "      <td>1.0</td>\n",
       "      <td>17950.000000</td>\n",
       "      <td>3.050000</td>\n",
       "      <td>0.000000</td>\n",
       "      <td>0.000000e+00</td>\n",
       "      <td>0.000000e+00</td>\n",
       "      <td>0.000000</td>\n",
       "      <td>0.000000</td>\n",
       "      <td>0.000000</td>\n",
       "      <td>0.000000</td>\n",
       "      <td>0.000000</td>\n",
       "      <td>0.000000</td>\n",
       "      <td>0.000000</td>\n",
       "      <td>0.000000</td>\n",
       "      <td>0.000000</td>\n",
       "      <td>0.000000</td>\n",
       "      <td>0.000000</td>\n",
       "      <td>0.000000e+00</td>\n",
       "      <td>0.000000</td>\n",
       "      <td>0.000000</td>\n",
       "      <td>-4.000000</td>\n",
       "      <td>0.000000</td>\n",
       "    </tr>\n",
       "    <tr>\n",
       "      <th>25%</th>\n",
       "      <td>9.067986e+06</td>\n",
       "      <td>1.079273e+07</td>\n",
       "      <td>8000.000000</td>\n",
       "      <td>8000.000000</td>\n",
       "      <td>8000.000000</td>\n",
       "      <td>9.990000</td>\n",
       "      <td>260.550000</td>\n",
       "      <td>4.500000e+04</td>\n",
       "      <td>11.880000</td>\n",
       "      <td>0.000000</td>\n",
       "      <td>0.000000</td>\n",
       "      <td>15.000000</td>\n",
       "      <td>51.000000</td>\n",
       "      <td>8.000000</td>\n",
       "      <td>0.000000</td>\n",
       "      <td>6.469000e+03</td>\n",
       "      <td>37.600000</td>\n",
       "      <td>17.000000</td>\n",
       "      <td>0.000000</td>\n",
       "      <td>0.000000</td>\n",
       "      <td>1969.690000</td>\n",
       "      <td>1960.12000</td>\n",
       "      <td>1239.950000</td>\n",
       "      <td>451.270000</td>\n",
       "      <td>0.000000</td>\n",
       "      <td>0.000000</td>\n",
       "      <td>0.000000</td>\n",
       "      <td>285.420000</td>\n",
       "      <td>0.000000</td>\n",
       "      <td>27.000000</td>\n",
       "      <td>1.0</td>\n",
       "      <td>75000.250000</td>\n",
       "      <td>13.187500</td>\n",
       "      <td>0.000000</td>\n",
       "      <td>0.000000e+00</td>\n",
       "      <td>2.987000e+04</td>\n",
       "      <td>0.000000</td>\n",
       "      <td>1.000000</td>\n",
       "      <td>0.000000</td>\n",
       "      <td>0.000000</td>\n",
       "      <td>6.000000</td>\n",
       "      <td>10390.250000</td>\n",
       "      <td>58.500000</td>\n",
       "      <td>0.000000</td>\n",
       "      <td>1.000000</td>\n",
       "      <td>2405.000000</td>\n",
       "      <td>47.900000</td>\n",
       "      <td>1.400000e+04</td>\n",
       "      <td>0.000000</td>\n",
       "      <td>0.000000</td>\n",
       "      <td>0.000000</td>\n",
       "      <td>0.000000</td>\n",
       "    </tr>\n",
       "    <tr>\n",
       "      <th>50%</th>\n",
       "      <td>3.431355e+07</td>\n",
       "      <td>3.697532e+07</td>\n",
       "      <td>13000.000000</td>\n",
       "      <td>13000.000000</td>\n",
       "      <td>13000.000000</td>\n",
       "      <td>12.990000</td>\n",
       "      <td>382.550000</td>\n",
       "      <td>6.500000e+04</td>\n",
       "      <td>17.610000</td>\n",
       "      <td>0.000000</td>\n",
       "      <td>0.000000</td>\n",
       "      <td>31.000000</td>\n",
       "      <td>70.000000</td>\n",
       "      <td>11.000000</td>\n",
       "      <td>0.000000</td>\n",
       "      <td>1.190300e+04</td>\n",
       "      <td>55.900000</td>\n",
       "      <td>24.000000</td>\n",
       "      <td>6290.250000</td>\n",
       "      <td>6287.650000</td>\n",
       "      <td>4976.160000</td>\n",
       "      <td>4948.25000</td>\n",
       "      <td>3286.890000</td>\n",
       "      <td>1076.910000</td>\n",
       "      <td>0.000000</td>\n",
       "      <td>0.000000</td>\n",
       "      <td>0.000000</td>\n",
       "      <td>468.820000</td>\n",
       "      <td>0.000000</td>\n",
       "      <td>44.000000</td>\n",
       "      <td>1.0</td>\n",
       "      <td>100000.000000</td>\n",
       "      <td>17.735000</td>\n",
       "      <td>0.000000</td>\n",
       "      <td>0.000000e+00</td>\n",
       "      <td>8.100850e+04</td>\n",
       "      <td>1.000000</td>\n",
       "      <td>2.000000</td>\n",
       "      <td>0.000000</td>\n",
       "      <td>1.000000</td>\n",
       "      <td>12.000000</td>\n",
       "      <td>24959.500000</td>\n",
       "      <td>75.000000</td>\n",
       "      <td>1.000000</td>\n",
       "      <td>2.000000</td>\n",
       "      <td>4485.500000</td>\n",
       "      <td>62.100000</td>\n",
       "      <td>2.380000e+04</td>\n",
       "      <td>0.000000</td>\n",
       "      <td>0.000000</td>\n",
       "      <td>2.000000</td>\n",
       "      <td>0.000000</td>\n",
       "    </tr>\n",
       "    <tr>\n",
       "      <th>75%</th>\n",
       "      <td>5.446311e+07</td>\n",
       "      <td>5.803559e+07</td>\n",
       "      <td>20000.000000</td>\n",
       "      <td>20000.000000</td>\n",
       "      <td>20000.000000</td>\n",
       "      <td>15.990000</td>\n",
       "      <td>571.560000</td>\n",
       "      <td>9.000000e+04</td>\n",
       "      <td>23.900000</td>\n",
       "      <td>0.000000</td>\n",
       "      <td>1.000000</td>\n",
       "      <td>50.000000</td>\n",
       "      <td>92.000000</td>\n",
       "      <td>14.000000</td>\n",
       "      <td>0.000000</td>\n",
       "      <td>2.085700e+04</td>\n",
       "      <td>73.500000</td>\n",
       "      <td>32.000000</td>\n",
       "      <td>13528.800000</td>\n",
       "      <td>13522.510000</td>\n",
       "      <td>10744.803649</td>\n",
       "      <td>10697.33000</td>\n",
       "      <td>8000.000000</td>\n",
       "      <td>2233.980000</td>\n",
       "      <td>0.000000</td>\n",
       "      <td>0.000000</td>\n",
       "      <td>0.000000</td>\n",
       "      <td>849.160000</td>\n",
       "      <td>0.000000</td>\n",
       "      <td>61.000000</td>\n",
       "      <td>1.0</td>\n",
       "      <td>130750.000000</td>\n",
       "      <td>22.650000</td>\n",
       "      <td>0.000000</td>\n",
       "      <td>0.000000e+00</td>\n",
       "      <td>2.087032e+05</td>\n",
       "      <td>2.000000</td>\n",
       "      <td>4.000000</td>\n",
       "      <td>1.000000</td>\n",
       "      <td>2.000000</td>\n",
       "      <td>23.000000</td>\n",
       "      <td>47493.000000</td>\n",
       "      <td>87.500000</td>\n",
       "      <td>2.000000</td>\n",
       "      <td>4.000000</td>\n",
       "      <td>7701.250000</td>\n",
       "      <td>75.300000</td>\n",
       "      <td>3.990000e+04</td>\n",
       "      <td>1.000000</td>\n",
       "      <td>2.000000</td>\n",
       "      <td>3.000000</td>\n",
       "      <td>0.000000</td>\n",
       "    </tr>\n",
       "    <tr>\n",
       "      <th>max</th>\n",
       "      <td>6.861687e+07</td>\n",
       "      <td>7.351969e+07</td>\n",
       "      <td>35000.000000</td>\n",
       "      <td>35000.000000</td>\n",
       "      <td>35000.000000</td>\n",
       "      <td>28.990000</td>\n",
       "      <td>1445.460000</td>\n",
       "      <td>9.500000e+06</td>\n",
       "      <td>9999.000000</td>\n",
       "      <td>39.000000</td>\n",
       "      <td>8.000000</td>\n",
       "      <td>188.000000</td>\n",
       "      <td>129.000000</td>\n",
       "      <td>90.000000</td>\n",
       "      <td>86.000000</td>\n",
       "      <td>2.904836e+06</td>\n",
       "      <td>892.300000</td>\n",
       "      <td>169.000000</td>\n",
       "      <td>49372.860000</td>\n",
       "      <td>49372.860000</td>\n",
       "      <td>57777.579870</td>\n",
       "      <td>57777.58000</td>\n",
       "      <td>35000.030000</td>\n",
       "      <td>24205.620000</td>\n",
       "      <td>358.680000</td>\n",
       "      <td>33520.270000</td>\n",
       "      <td>7002.190000</td>\n",
       "      <td>36475.590000</td>\n",
       "      <td>20.000000</td>\n",
       "      <td>188.000000</td>\n",
       "      <td>1.0</td>\n",
       "      <td>410000.000000</td>\n",
       "      <td>43.860000</td>\n",
       "      <td>14.000000</td>\n",
       "      <td>9.152545e+06</td>\n",
       "      <td>8.000078e+06</td>\n",
       "      <td>12.000000</td>\n",
       "      <td>40.000000</td>\n",
       "      <td>12.000000</td>\n",
       "      <td>15.000000</td>\n",
       "      <td>300.000000</td>\n",
       "      <td>634217.000000</td>\n",
       "      <td>223.300000</td>\n",
       "      <td>22.000000</td>\n",
       "      <td>43.000000</td>\n",
       "      <td>83047.000000</td>\n",
       "      <td>151.400000</td>\n",
       "      <td>9.999999e+06</td>\n",
       "      <td>15.000000</td>\n",
       "      <td>33.000000</td>\n",
       "      <td>32.000000</td>\n",
       "      <td>1.000000</td>\n",
       "    </tr>\n",
       "  </tbody>\n",
       "</table>\n",
       "</div>"
      ],
      "text/plain": [
       "                 id     member_id      loan_amnt    funded_amnt  \\\n",
       "count  8.559690e+05  8.559690e+05  855969.000000  855969.000000   \n",
       "mean   3.224073e+07  3.476269e+07   14745.571335   14732.378305   \n",
       "std    2.271969e+07  2.399418e+07    8425.340005    8419.471653   \n",
       "min    5.473400e+04  7.069900e+04     500.000000     500.000000   \n",
       "25%    9.067986e+06  1.079273e+07    8000.000000    8000.000000   \n",
       "50%    3.431355e+07  3.697532e+07   13000.000000   13000.000000   \n",
       "75%    5.446311e+07  5.803559e+07   20000.000000   20000.000000   \n",
       "max    6.861687e+07  7.351969e+07   35000.000000   35000.000000   \n",
       "\n",
       "       funded_amnt_inv       int_rate    installment    annual_inc  \\\n",
       "count    855969.000000  855969.000000  855969.000000  8.559690e+05   \n",
       "mean      14700.061226      13.192320     436.238072  7.507119e+04   \n",
       "std        8425.805478       4.368365     243.726876  6.426447e+04   \n",
       "min           0.000000       5.320000      15.690000  0.000000e+00   \n",
       "25%        8000.000000       9.990000     260.550000  4.500000e+04   \n",
       "50%       13000.000000      12.990000     382.550000  6.500000e+04   \n",
       "75%       20000.000000      15.990000     571.560000  9.000000e+04   \n",
       "max       35000.000000      28.990000    1445.460000  9.500000e+06   \n",
       "\n",
       "                 dti    delinq_2yrs  inq_last_6mths  mths_since_last_delinq  \\\n",
       "count  855969.000000  855969.000000   855969.000000           416157.000000   \n",
       "mean       18.122165       0.311621        0.680915               34.149943   \n",
       "std        17.423629       0.857189        0.964033               21.868500   \n",
       "min         0.000000       0.000000        0.000000                0.000000   \n",
       "25%        11.880000       0.000000        0.000000               15.000000   \n",
       "50%        17.610000       0.000000        0.000000               31.000000   \n",
       "75%        23.900000       0.000000        1.000000               50.000000   \n",
       "max      9999.000000      39.000000        8.000000              188.000000   \n",
       "\n",
       "       mths_since_last_record       open_acc        pub_rec     revol_bal  \\\n",
       "count           131184.000000  855969.000000  855969.000000  8.559690e+05   \n",
       "mean                70.463959      11.542447       0.194537  1.691053e+04   \n",
       "std                 27.827120       5.308094       0.581585  2.222374e+04   \n",
       "min                  0.000000       0.000000       0.000000  0.000000e+00   \n",
       "25%                 51.000000       8.000000       0.000000  6.469000e+03   \n",
       "50%                 70.000000      11.000000       0.000000  1.190300e+04   \n",
       "75%                 92.000000      14.000000       0.000000  2.085700e+04   \n",
       "max                129.000000      90.000000      86.000000  2.904836e+06   \n",
       "\n",
       "          revol_util      total_acc      out_prncp  out_prncp_inv  \\\n",
       "count  855523.000000  855969.000000  855969.000000  855969.000000   \n",
       "mean       55.019405      25.269269    8284.830230    8281.449347   \n",
       "std        23.811585      11.818841    8461.946669    8458.496422   \n",
       "min         0.000000       2.000000       0.000000       0.000000   \n",
       "25%        37.600000      17.000000       0.000000       0.000000   \n",
       "50%        55.900000      24.000000    6290.250000    6287.650000   \n",
       "75%        73.500000      32.000000   13528.800000   13522.510000   \n",
       "max       892.300000     169.000000   49372.860000   49372.860000   \n",
       "\n",
       "         total_pymnt  total_pymnt_inv  total_rec_prncp  total_rec_int  \\\n",
       "count  855969.000000     855969.00000    855969.000000  855969.000000   \n",
       "mean     7653.296336       7622.22052      5850.841088    1755.046221   \n",
       "std      7909.383591       7885.15640      6676.410888    2081.692980   \n",
       "min         0.000000          0.00000         0.000000       0.000000   \n",
       "25%      1969.690000       1960.12000      1239.950000     451.270000   \n",
       "50%      4976.160000       4948.25000      3286.890000    1076.910000   \n",
       "75%     10744.803649      10697.33000      8000.000000    2233.980000   \n",
       "max     57777.579870      57777.58000     35000.030000   24205.620000   \n",
       "\n",
       "       total_rec_late_fee     recoveries  collection_recovery_fee  \\\n",
       "count       855969.000000  855969.000000            855969.000000   \n",
       "mean             0.319530      47.089499                 4.951227   \n",
       "std              3.609399     413.136043                62.478569   \n",
       "min              0.000000       0.000000                 0.000000   \n",
       "25%              0.000000       0.000000                 0.000000   \n",
       "50%              0.000000       0.000000                 0.000000   \n",
       "75%              0.000000       0.000000                 0.000000   \n",
       "max            358.680000   33520.270000              7002.190000   \n",
       "\n",
       "       last_pymnt_amnt  collections_12_mths_ex_med  \\\n",
       "count    855969.000000               855913.000000   \n",
       "mean       2225.985295                    0.014230   \n",
       "std        4864.966593                    0.133712   \n",
       "min           0.000000                    0.000000   \n",
       "25%         285.420000                    0.000000   \n",
       "50%         468.820000                    0.000000   \n",
       "75%         849.160000                    0.000000   \n",
       "max       36475.590000                   20.000000   \n",
       "\n",
       "       mths_since_last_major_derog  policy_code  annual_inc_joint   dti_joint  \\\n",
       "count                213139.000000     855969.0        442.000000  440.000000   \n",
       "mean                     44.101450          1.0     107412.163982   18.318477   \n",
       "std                      22.164907          0.0      47987.608637    7.221855   \n",
       "min                       0.000000          1.0      17950.000000    3.050000   \n",
       "25%                      27.000000          1.0      75000.250000   13.187500   \n",
       "50%                      44.000000          1.0     100000.000000   17.735000   \n",
       "75%                      61.000000          1.0     130750.000000   22.650000   \n",
       "max                     188.000000          1.0     410000.000000   43.860000   \n",
       "\n",
       "       acc_now_delinq  tot_coll_amt   tot_cur_bal   open_acc_6m    open_il_6m  \\\n",
       "count   855969.000000  7.886560e+05  7.886560e+05  13288.000000  13288.000000   \n",
       "mean         0.004944  2.254129e+02  1.397662e+05      1.072998      2.945665   \n",
       "std          0.077333  1.048945e+04  1.539385e+05      1.206939      3.080330   \n",
       "min          0.000000  0.000000e+00  0.000000e+00      0.000000      0.000000   \n",
       "25%          0.000000  0.000000e+00  2.987000e+04      0.000000      1.000000   \n",
       "50%          0.000000  0.000000e+00  8.100850e+04      1.000000      2.000000   \n",
       "75%          0.000000  0.000000e+00  2.087032e+05      2.000000      4.000000   \n",
       "max         14.000000  9.152545e+06  8.000078e+06     12.000000     40.000000   \n",
       "\n",
       "        open_il_12m   open_il_24m  mths_since_rcnt_il   total_bal_il  \\\n",
       "count  13288.000000  13288.000000        12934.000000   13288.000000   \n",
       "mean       0.749323      1.666767           20.833153   36511.541391   \n",
       "std        0.986169      1.685394           26.739237   42492.757796   \n",
       "min        0.000000      0.000000            0.000000       0.000000   \n",
       "25%        0.000000      0.000000            6.000000   10390.250000   \n",
       "50%        0.000000      1.000000           12.000000   24959.500000   \n",
       "75%        1.000000      2.000000           23.000000   47493.000000   \n",
       "max       12.000000     15.000000          300.000000  634217.000000   \n",
       "\n",
       "            il_util   open_rv_12m   open_rv_24m    max_bal_bc      all_util  \\\n",
       "count  11609.000000  13288.000000  13288.000000  13288.000000  13288.000000   \n",
       "mean      71.486993      1.354305      2.945515   5840.443332     61.024526   \n",
       "std       23.015293      1.483710      2.595313   5108.500262     20.018117   \n",
       "min        0.000000      0.000000      0.000000      0.000000      0.000000   \n",
       "25%       58.500000      0.000000      1.000000   2405.000000     47.900000   \n",
       "50%       75.000000      1.000000      2.000000   4485.500000     62.100000   \n",
       "75%       87.500000      2.000000      4.000000   7701.250000     75.300000   \n",
       "max      223.300000     22.000000     43.000000  83047.000000    151.400000   \n",
       "\n",
       "       total_rev_hi_lim        inq_fi   total_cu_tl  inq_last_12m  \\\n",
       "count      7.886560e+05  13288.000000  13288.000000  13288.000000   \n",
       "mean       3.216357e+04      0.947772      1.524232      1.841963   \n",
       "std        3.769964e+04      1.441667      2.697601      2.975049   \n",
       "min        0.000000e+00      0.000000      0.000000     -4.000000   \n",
       "25%        1.400000e+04      0.000000      0.000000      0.000000   \n",
       "50%        2.380000e+04      0.000000      0.000000      2.000000   \n",
       "75%        3.990000e+04      1.000000      2.000000      3.000000   \n",
       "max        9.999999e+06     15.000000     33.000000     32.000000   \n",
       "\n",
       "         default_ind  \n",
       "count  855969.000000  \n",
       "mean        0.054286  \n",
       "std         0.226581  \n",
       "min         0.000000  \n",
       "25%         0.000000  \n",
       "50%         0.000000  \n",
       "75%         0.000000  \n",
       "max         1.000000  "
      ]
     },
     "execution_count": 6,
     "metadata": {},
     "output_type": "execute_result"
    }
   ],
   "source": [
    "data.describe()"
   ]
  },
  {
   "cell_type": "code",
   "execution_count": 7,
   "metadata": {},
   "outputs": [
    {
     "data": {
      "text/html": [
       "<div>\n",
       "<style scoped>\n",
       "    .dataframe tbody tr th:only-of-type {\n",
       "        vertical-align: middle;\n",
       "    }\n",
       "\n",
       "    .dataframe tbody tr th {\n",
       "        vertical-align: top;\n",
       "    }\n",
       "\n",
       "    .dataframe thead th {\n",
       "        text-align: right;\n",
       "    }\n",
       "</style>\n",
       "<table border=\"1\" class=\"dataframe\">\n",
       "  <thead>\n",
       "    <tr style=\"text-align: right;\">\n",
       "      <th></th>\n",
       "      <th>term</th>\n",
       "      <th>grade</th>\n",
       "      <th>sub_grade</th>\n",
       "      <th>emp_title</th>\n",
       "      <th>emp_length</th>\n",
       "      <th>home_ownership</th>\n",
       "      <th>verification_status</th>\n",
       "      <th>pymnt_plan</th>\n",
       "      <th>desc</th>\n",
       "      <th>purpose</th>\n",
       "      <th>title</th>\n",
       "      <th>zip_code</th>\n",
       "      <th>addr_state</th>\n",
       "      <th>earliest_cr_line</th>\n",
       "      <th>initial_list_status</th>\n",
       "      <th>last_pymnt_d</th>\n",
       "      <th>next_pymnt_d</th>\n",
       "      <th>last_credit_pull_d</th>\n",
       "      <th>application_type</th>\n",
       "      <th>verification_status_joint</th>\n",
       "    </tr>\n",
       "  </thead>\n",
       "  <tbody>\n",
       "    <tr>\n",
       "      <th>count</th>\n",
       "      <td>855969</td>\n",
       "      <td>855969</td>\n",
       "      <td>855969</td>\n",
       "      <td>806526</td>\n",
       "      <td>812908</td>\n",
       "      <td>855969</td>\n",
       "      <td>855969</td>\n",
       "      <td>855969</td>\n",
       "      <td>121812</td>\n",
       "      <td>855969</td>\n",
       "      <td>855936</td>\n",
       "      <td>855969</td>\n",
       "      <td>855969</td>\n",
       "      <td>855969</td>\n",
       "      <td>855969</td>\n",
       "      <td>847107</td>\n",
       "      <td>602998</td>\n",
       "      <td>855919</td>\n",
       "      <td>855969</td>\n",
       "      <td>442</td>\n",
       "    </tr>\n",
       "    <tr>\n",
       "      <th>unique</th>\n",
       "      <td>2</td>\n",
       "      <td>7</td>\n",
       "      <td>35</td>\n",
       "      <td>290912</td>\n",
       "      <td>11</td>\n",
       "      <td>6</td>\n",
       "      <td>3</td>\n",
       "      <td>2</td>\n",
       "      <td>120335</td>\n",
       "      <td>14</td>\n",
       "      <td>60991</td>\n",
       "      <td>931</td>\n",
       "      <td>51</td>\n",
       "      <td>697</td>\n",
       "      <td>2</td>\n",
       "      <td>97</td>\n",
       "      <td>3</td>\n",
       "      <td>102</td>\n",
       "      <td>2</td>\n",
       "      <td>3</td>\n",
       "    </tr>\n",
       "    <tr>\n",
       "      <th>top</th>\n",
       "      <td>36 months</td>\n",
       "      <td>B</td>\n",
       "      <td>B3</td>\n",
       "      <td>Teacher</td>\n",
       "      <td>10+ years</td>\n",
       "      <td>MORTGAGE</td>\n",
       "      <td>Source Verified</td>\n",
       "      <td>n</td>\n",
       "      <td></td>\n",
       "      <td>debt_consolidation</td>\n",
       "      <td>Debt consolidation</td>\n",
       "      <td>945xx</td>\n",
       "      <td>CA</td>\n",
       "      <td>Aug-2001</td>\n",
       "      <td>f</td>\n",
       "      <td>Jan-2016</td>\n",
       "      <td>Feb-2016</td>\n",
       "      <td>Jan-2016</td>\n",
       "      <td>INDIVIDUAL</td>\n",
       "      <td>Not Verified</td>\n",
       "    </tr>\n",
       "    <tr>\n",
       "      <th>freq</th>\n",
       "      <td>600221</td>\n",
       "      <td>247998</td>\n",
       "      <td>54958</td>\n",
       "      <td>12965</td>\n",
       "      <td>282090</td>\n",
       "      <td>429106</td>\n",
       "      <td>318178</td>\n",
       "      <td>855964</td>\n",
       "      <td>231</td>\n",
       "      <td>505392</td>\n",
       "      <td>398089</td>\n",
       "      <td>9466</td>\n",
       "      <td>125172</td>\n",
       "      <td>6433</td>\n",
       "      <td>442555</td>\n",
       "      <td>467510</td>\n",
       "      <td>534094</td>\n",
       "      <td>701687</td>\n",
       "      <td>855527</td>\n",
       "      <td>252</td>\n",
       "    </tr>\n",
       "  </tbody>\n",
       "</table>\n",
       "</div>"
      ],
      "text/plain": [
       "              term   grade sub_grade emp_title emp_length home_ownership  \\\n",
       "count       855969  855969    855969    806526     812908         855969   \n",
       "unique           2       7        35    290912         11              6   \n",
       "top      36 months       B        B3   Teacher  10+ years       MORTGAGE   \n",
       "freq        600221  247998     54958     12965     282090         429106   \n",
       "\n",
       "       verification_status pymnt_plan    desc             purpose  \\\n",
       "count               855969     855969  121812              855969   \n",
       "unique                   3          2  120335                  14   \n",
       "top        Source Verified          n          debt_consolidation   \n",
       "freq                318178     855964     231              505392   \n",
       "\n",
       "                     title zip_code addr_state earliest_cr_line  \\\n",
       "count               855936   855969     855969           855969   \n",
       "unique               60991      931         51              697   \n",
       "top     Debt consolidation    945xx         CA         Aug-2001   \n",
       "freq                398089     9466     125172             6433   \n",
       "\n",
       "       initial_list_status last_pymnt_d next_pymnt_d last_credit_pull_d  \\\n",
       "count               855969       847107       602998             855919   \n",
       "unique                   2           97            3                102   \n",
       "top                      f     Jan-2016     Feb-2016           Jan-2016   \n",
       "freq                442555       467510       534094             701687   \n",
       "\n",
       "       application_type verification_status_joint  \n",
       "count            855969                       442  \n",
       "unique                2                         3  \n",
       "top          INDIVIDUAL              Not Verified  \n",
       "freq             855527                       252  "
      ]
     },
     "execution_count": 7,
     "metadata": {},
     "output_type": "execute_result"
    }
   ],
   "source": [
    "data.describe(include=object)"
   ]
  },
  {
   "cell_type": "code",
   "execution_count": 8,
   "metadata": {},
   "outputs": [
    {
     "data": {
      "text/plain": [
       "<matplotlib.axes._subplots.AxesSubplot at 0x7fcdd7651eb0>"
      ]
     },
     "execution_count": 8,
     "metadata": {},
     "output_type": "execute_result"
    },
    {
     "data": {
      "image/png": "[encoded data removed]",
      "text/plain": [
       "<Figure size 432x288 with 1 Axes>"
      ]
     },
     "metadata": {
      "needs_background": "light"
     },
     "output_type": "display_data"
    }
   ],
   "source": [
    "# Target Variable\n",
    "sns.countplot('default_ind',data=data)"
   ]
  },
  {
   "cell_type": "markdown",
   "metadata": {},
   "source": [
    "As we can see classs is highly imbalanced which will need treatment before running our models"
   ]
  },
  {
   "cell_type": "code",
   "execution_count": 9,
   "metadata": {},
   "outputs": [
    {
     "data": {
      "text/plain": [
       "id                       0\n",
       "member_id                0\n",
       "loan_amnt                0\n",
       "funded_amnt              0\n",
       "funded_amnt_inv          0\n",
       "                     ...  \n",
       "total_rev_hi_lim     67313\n",
       "inq_fi              842681\n",
       "total_cu_tl         842681\n",
       "inq_last_12m        842681\n",
       "default_ind              0\n",
       "Length: 73, dtype: int64"
      ]
     },
     "execution_count": 9,
     "metadata": {},
     "output_type": "execute_result"
    }
   ],
   "source": [
    "data.isnull().sum()"
   ]
  },
  {
   "cell_type": "code",
   "execution_count": 10,
   "metadata": {},
   "outputs": [
    {
     "data": {
      "text/plain": [
       "dti_joint                      0.999486\n",
       "verification_status_joint      0.999484\n",
       "annual_inc_joint               0.999484\n",
       "il_util                        0.986438\n",
       "mths_since_rcnt_il             0.984890\n",
       "total_bal_il                   0.984476\n",
       "inq_last_12m                   0.984476\n",
       "open_acc_6m                    0.984476\n",
       "open_il_6m                     0.984476\n",
       "open_il_24m                    0.984476\n",
       "open_il_12m                    0.984476\n",
       "open_rv_12m                    0.984476\n",
       "open_rv_24m                    0.984476\n",
       "max_bal_bc                     0.984476\n",
       "all_util                       0.984476\n",
       "inq_fi                         0.984476\n",
       "total_cu_tl                    0.984476\n",
       "desc                           0.857691\n",
       "mths_since_last_record         0.846742\n",
       "mths_since_last_major_derog    0.750997\n",
       "dtype: float64"
      ]
     },
     "execution_count": 10,
     "metadata": {},
     "output_type": "execute_result"
    }
   ],
   "source": [
    "data_null = data.isnull().sum(axis=0).sort_values(ascending=False)/float(len(data))\n",
    "data_null[data_null > 0.60]"
   ]
  },
  {
   "cell_type": "markdown",
   "metadata": {},
   "source": [
    "* 20 Variable can be removed "
   ]
  },
  {
   "cell_type": "code",
   "execution_count": 11,
   "metadata": {},
   "outputs": [],
   "source": [
    "null_cols = [x for x in data.count() < 855969*0.40]\n",
    "data.drop(data.columns[null_cols], 1, inplace=True)"
   ]
  },
  {
   "cell_type": "code",
   "execution_count": 12,
   "metadata": {},
   "outputs": [
    {
     "data": {
      "text/plain": [
       "(855969, 53)"
      ]
     },
     "execution_count": 12,
     "metadata": {},
     "output_type": "execute_result"
    }
   ],
   "source": [
    "data.shape"
   ]
  },
  {
   "cell_type": "code",
   "execution_count": 13,
   "metadata": {
    "scrolled": true
   },
   "outputs": [
    {
     "name": "stdout",
     "output_type": "stream",
     "text": [
      "<class 'pandas.core.frame.DataFrame'>\n",
      "RangeIndex: 855969 entries, 0 to 855968\n",
      "Data columns (total 53 columns):\n",
      " #   Column                      Non-Null Count   Dtype         \n",
      "---  ------                      --------------   -----         \n",
      " 0   id                          855969 non-null  int64         \n",
      " 1   member_id                   855969 non-null  int64         \n",
      " 2   loan_amnt                   855969 non-null  float64       \n",
      " 3   funded_amnt                 855969 non-null  float64       \n",
      " 4   funded_amnt_inv             855969 non-null  float64       \n",
      " 5   term                        855969 non-null  object        \n",
      " 6   int_rate                    855969 non-null  float64       \n",
      " 7   installment                 855969 non-null  float64       \n",
      " 8   grade                       855969 non-null  object        \n",
      " 9   sub_grade                   855969 non-null  object        \n",
      " 10  emp_title                   806526 non-null  object        \n",
      " 11  emp_length                  812908 non-null  object        \n",
      " 12  home_ownership              855969 non-null  object        \n",
      " 13  annual_inc                  855969 non-null  float64       \n",
      " 14  verification_status         855969 non-null  object        \n",
      " 15  issue_d                     855969 non-null  datetime64[ns]\n",
      " 16  pymnt_plan                  855969 non-null  object        \n",
      " 17  purpose                     855969 non-null  object        \n",
      " 18  title                       855936 non-null  object        \n",
      " 19  zip_code                    855969 non-null  object        \n",
      " 20  addr_state                  855969 non-null  object        \n",
      " 21  dti                         855969 non-null  float64       \n",
      " 22  delinq_2yrs                 855969 non-null  float64       \n",
      " 23  earliest_cr_line            855969 non-null  object        \n",
      " 24  inq_last_6mths              855969 non-null  float64       \n",
      " 25  mths_since_last_delinq      416157 non-null  float64       \n",
      " 26  open_acc                    855969 non-null  float64       \n",
      " 27  pub_rec                     855969 non-null  float64       \n",
      " 28  revol_bal                   855969 non-null  float64       \n",
      " 29  revol_util                  855523 non-null  float64       \n",
      " 30  total_acc                   855969 non-null  float64       \n",
      " 31  initial_list_status         855969 non-null  object        \n",
      " 32  out_prncp                   855969 non-null  float64       \n",
      " 33  out_prncp_inv               855969 non-null  float64       \n",
      " 34  total_pymnt                 855969 non-null  float64       \n",
      " 35  total_pymnt_inv             855969 non-null  float64       \n",
      " 36  total_rec_prncp             855969 non-null  float64       \n",
      " 37  total_rec_int               855969 non-null  float64       \n",
      " 38  total_rec_late_fee          855969 non-null  float64       \n",
      " 39  recoveries                  855969 non-null  float64       \n",
      " 40  collection_recovery_fee     855969 non-null  float64       \n",
      " 41  last_pymnt_d                847107 non-null  object        \n",
      " 42  last_pymnt_amnt             855969 non-null  float64       \n",
      " 43  next_pymnt_d                602998 non-null  object        \n",
      " 44  last_credit_pull_d          855919 non-null  object        \n",
      " 45  collections_12_mths_ex_med  855913 non-null  float64       \n",
      " 46  policy_code                 855969 non-null  float64       \n",
      " 47  application_type            855969 non-null  object        \n",
      " 48  acc_now_delinq              855969 non-null  float64       \n",
      " 49  tot_coll_amt                788656 non-null  float64       \n",
      " 50  tot_cur_bal                 788656 non-null  float64       \n",
      " 51  total_rev_hi_lim            788656 non-null  float64       \n",
      " 52  default_ind                 855969 non-null  int64         \n",
      "dtypes: datetime64[ns](1), float64(31), int64(3), object(18)\n",
      "memory usage: 346.1+ MB\n"
     ]
    }
   ],
   "source": [
    "data.info()"
   ]
  },
  {
   "cell_type": "code",
   "execution_count": 14,
   "metadata": {},
   "outputs": [
    {
     "data": {
      "text/plain": [
       "1.0    855969\n",
       "Name: policy_code, dtype: int64"
      ]
     },
     "execution_count": 14,
     "metadata": {},
     "output_type": "execute_result"
    }
   ],
   "source": [
    "data['policy_code'].value_counts()"
   ]
  },
  {
   "cell_type": "code",
   "execution_count": 15,
   "metadata": {},
   "outputs": [
    {
     "name": "stdout",
     "output_type": "stream",
     "text": [
      "---- term ---\n",
      " 36 months    600221\n",
      " 60 months    255748\n",
      "Name: term, dtype: int64\n",
      "---- grade ---\n",
      "B    247998\n",
      "C    236855\n",
      "A    145665\n",
      "D    132802\n",
      "E     66448\n",
      "F     21328\n",
      "G      4873\n",
      "Name: grade, dtype: int64\n",
      "---- sub_grade ---\n",
      "B3    54958\n",
      "B4    54116\n",
      "C1    51588\n",
      "C2    50457\n",
      "C3    48337\n",
      "B2    47589\n",
      "B5    47333\n",
      "C4    46941\n",
      "B1    44002\n",
      "A5    43957\n",
      "C5    39532\n",
      "D1    34667\n",
      "A4    33991\n",
      "D2    28385\n",
      "D3    25289\n",
      "D4    24253\n",
      "A3    23095\n",
      "A1    22516\n",
      "A2    22106\n",
      "D5    20208\n",
      "E1    17230\n",
      "E2    15994\n",
      "E3    13294\n",
      "E4    11011\n",
      "E5     8919\n",
      "F1     6702\n",
      "F2     4979\n",
      "F3     4099\n",
      "F4     3168\n",
      "F5     2380\n",
      "G1     1698\n",
      "G2     1259\n",
      "G3      877\n",
      "G4      570\n",
      "G5      469\n",
      "Name: sub_grade, dtype: int64\n",
      "---- emp_title ---\n",
      "Teacher                                     12965\n",
      "Manager                                     10821\n",
      "Registered Nurse                             5341\n",
      "RN                                           5182\n",
      "Owner                                        5157\n",
      "                                            ...  \n",
      "Aircraft Mechanic / Avionics Technician         1\n",
      "wahrehouseman                                   1\n",
      "Staffing assistant                              1\n",
      "Moldsetter                                      1\n",
      "Rec Leader 4 / parking enforcement offcr        1\n",
      "Name: emp_title, Length: 290912, dtype: int64\n",
      "---- emp_length ---\n",
      "10+ years    282090\n",
      "2 years       75986\n",
      "< 1 year      67597\n",
      "3 years       67392\n",
      "1 year        54855\n",
      "5 years       53812\n",
      "4 years       50643\n",
      "7 years       43204\n",
      "8 years       42421\n",
      "6 years       41446\n",
      "9 years       33462\n",
      "Name: emp_length, dtype: int64\n",
      "---- home_ownership ---\n",
      "MORTGAGE    429106\n",
      "RENT        342535\n",
      "OWN          84136\n",
      "OTHER          144\n",
      "NONE            45\n",
      "ANY              3\n",
      "Name: home_ownership, dtype: int64\n",
      "---- verification_status ---\n",
      "Source Verified    318178\n",
      "Verified           280049\n",
      "Not Verified       257742\n",
      "Name: verification_status, dtype: int64\n",
      "---- pymnt_plan ---\n",
      "n    855964\n",
      "y         5\n",
      "Name: pymnt_plan, dtype: int64\n",
      "---- purpose ---\n",
      "debt_consolidation    505392\n",
      "credit_card           200144\n",
      "home_improvement       49956\n",
      "other                  40949\n",
      "major_purchase         16587\n",
      "small_business          9785\n",
      "car                     8593\n",
      "medical                 8193\n",
      "moving                  5160\n",
      "vacation                4542\n",
      "house                   3513\n",
      "wedding                 2280\n",
      "renewable_energy         549\n",
      "educational              326\n",
      "Name: purpose, dtype: int64\n",
      "---- title ---\n",
      "Debt consolidation               398089\n",
      "Credit card refinancing          159228\n",
      "Home improvement                  38633\n",
      "Other                             30522\n",
      "Debt Consolidation                15469\n",
      "                                  ...  \n",
      "Back Pay                              1\n",
      "Fix debt, finish school               1\n",
      "Operation No More Credit Card         1\n",
      "Bo and Koko Loan                      1\n",
      "Simplify my unsecured debt            1\n",
      "Name: title, Length: 60991, dtype: int64\n",
      "---- zip_code ---\n",
      "945xx    9466\n",
      "750xx    9111\n",
      "112xx    8894\n",
      "606xx    8370\n",
      "300xx    7820\n",
      "         ... \n",
      "819xx       1\n",
      "862xx       1\n",
      "621xx       1\n",
      "343xx       1\n",
      "516xx       1\n",
      "Name: zip_code, Length: 931, dtype: int64\n",
      "---- addr_state ---\n",
      "CA    125172\n",
      "NY     71114\n",
      "TX     68708\n",
      "FL     58639\n",
      "IL     34379\n",
      "NJ     32061\n",
      "PA     30250\n",
      "OH     28651\n",
      "GA     28043\n",
      "VA     25234\n",
      "NC     23787\n",
      "MI     22175\n",
      "MD     20209\n",
      "MA     19835\n",
      "AZ     19693\n",
      "WA     18816\n",
      "CO     18211\n",
      "MN     15424\n",
      "MO     13743\n",
      "IN     13348\n",
      "CT     13042\n",
      "TN     12392\n",
      "NV     11972\n",
      "WI     11199\n",
      "AL     10732\n",
      "OR     10562\n",
      "SC     10302\n",
      "LA     10186\n",
      "KY      8299\n",
      "OK      7759\n",
      "KS      7693\n",
      "AR      6399\n",
      "UT      6055\n",
      "NM      4757\n",
      "HI      4380\n",
      "WV      4247\n",
      "NH      4156\n",
      "RI      3753\n",
      "MS      3653\n",
      "MT      2466\n",
      "DE      2402\n",
      "DC      2382\n",
      "AK      2134\n",
      "WY      1974\n",
      "VT      1753\n",
      "SD      1745\n",
      "NE      1124\n",
      "ME       491\n",
      "ND       452\n",
      "ID         9\n",
      "IA         7\n",
      "Name: addr_state, dtype: int64\n",
      "---- earliest_cr_line ---\n",
      "Aug-2001    6433\n",
      "Aug-2000    6322\n",
      "Oct-2000    6117\n",
      "Oct-2001    5924\n",
      "Aug-2002    5858\n",
      "            ... \n",
      "Jul-1961       1\n",
      "Sep-1957       1\n",
      "Feb-1957       1\n",
      "Sep-1953       1\n",
      "Aug-1951       1\n",
      "Name: earliest_cr_line, Length: 697, dtype: int64\n",
      "---- initial_list_status ---\n",
      "f    442555\n",
      "w    413414\n",
      "Name: initial_list_status, dtype: int64\n",
      "---- last_pymnt_d ---\n",
      "Jan-2016    467510\n",
      "Dec-2015    142783\n",
      "Jul-2015     14472\n",
      "Aug-2015     13010\n",
      "Oct-2015     12503\n",
      "             ...  \n",
      "Jun-2008        10\n",
      "Nov-2008        10\n",
      "Mar-2008         5\n",
      "Jan-2008         4\n",
      "Feb-2008         1\n",
      "Name: last_pymnt_d, Length: 97, dtype: int64\n",
      "---- next_pymnt_d ---\n",
      "Feb-2016    534094\n",
      "Jan-2016     68838\n",
      "Mar-2016        66\n",
      "Name: next_pymnt_d, dtype: int64\n",
      "---- last_credit_pull_d ---\n",
      "Jan-2016    701687\n",
      "Dec-2015     19039\n",
      "Nov-2015     11388\n",
      "Oct-2015     10290\n",
      "Sep-2015      9985\n",
      "             ...  \n",
      "Jul-2008         1\n",
      "Jun-2008         1\n",
      "Jul-2007         1\n",
      "May-2008         1\n",
      "May-2007         1\n",
      "Name: last_credit_pull_d, Length: 102, dtype: int64\n",
      "---- application_type ---\n",
      "INDIVIDUAL    855527\n",
      "JOINT            442\n",
      "Name: application_type, dtype: int64\n"
     ]
    }
   ],
   "source": [
    "data_obj = data.select_dtypes(include=['object'])\n",
    "for c in data_obj.columns:\n",
    "    print(\"---- %s ---\" % c)\n",
    "    print(data_obj[c].value_counts())"
   ]
  },
  {
   "cell_type": "code",
   "execution_count": 16,
   "metadata": {},
   "outputs": [
    {
     "data": {
      "text/plain": [
       "Teacher                                     12965\n",
       "Manager                                     10821\n",
       "Registered Nurse                             5341\n",
       "RN                                           5182\n",
       "Owner                                        5157\n",
       "                                            ...  \n",
       "Aircraft Mechanic / Avionics Technician         1\n",
       "wahrehouseman                                   1\n",
       "Staffing assistant                              1\n",
       "Moldsetter                                      1\n",
       "Rec Leader 4 / parking enforcement offcr        1\n",
       "Name: emp_title, Length: 290912, dtype: int64"
      ]
     },
     "execution_count": 16,
     "metadata": {},
     "output_type": "execute_result"
    }
   ],
   "source": [
    "data_obj['emp_title'].value_counts()"
   ]
  },
  {
   "cell_type": "code",
   "execution_count": 17,
   "metadata": {},
   "outputs": [
    {
     "data": {
      "text/plain": [
       "0         860xx\n",
       "1         309xx\n",
       "2         606xx\n",
       "3         917xx\n",
       "4         972xx\n",
       "          ...  \n",
       "855964    905xx\n",
       "855965    072xx\n",
       "855966    378xx\n",
       "855967    010xx\n",
       "855968    331xx\n",
       "Name: zip_code, Length: 855969, dtype: object"
      ]
     },
     "execution_count": 17,
     "metadata": {},
     "output_type": "execute_result"
    }
   ],
   "source": [
    "data['zip_code']"
   ]
  },
  {
   "cell_type": "markdown",
   "metadata": {},
   "source": [
    "From Data:-\n",
    "- policy_code is always == 1\n",
    "- payment_plan has only __10 'y'__ values and __887372 'n'__ values\n",
    "- id and member_id are all unique, which is a bit misleading. So every record is a unique customer\n",
    "- application_type is 'INDIVIDUAL' for 99.94% of the records\n",
    "- acc_now_delinq is 0 for 99.5% of the records\n",
    "- emp_title not needed here, but it might be useful for the modelling (see below),\n",
    "- zip_code not needed for this level of analysis,\n",
    "- title can be removed as well."
   ]
  },
  {
   "cell_type": "code",
   "execution_count": 18,
   "metadata": {},
   "outputs": [],
   "source": [
    "vars_to_be_removed = ['policy_code', 'pymnt_plan', 'id', 'member_id', 'application_type', \n",
    "                      'acc_now_delinq','emp_title', 'zip_code','title']\n",
    "data.drop( vars_to_be_removed , axis = 1, inplace = True )"
   ]
  },
  {
   "cell_type": "code",
   "execution_count": 19,
   "metadata": {},
   "outputs": [
    {
     "data": {
      "text/plain": [
       "(855969, 44)"
      ]
     },
     "execution_count": 19,
     "metadata": {},
     "output_type": "execute_result"
    }
   ],
   "source": [
    "data.shape"
   ]
  },
  {
   "cell_type": "code",
   "execution_count": 20,
   "metadata": {},
   "outputs": [
    {
     "data": {
      "text/plain": [
       "<matplotlib.axes._subplots.AxesSubplot at 0x7fcdd76965e0>"
      ]
     },
     "execution_count": 20,
     "metadata": {},
     "output_type": "execute_result"
    },
    {
     "data": {
      "image/png": "[encoded data removed]",
      "text/plain": [
       "<Figure size 432x288 with 1 Axes>"
      ]
     },
     "metadata": {
      "needs_background": "light"
     },
     "output_type": "display_data"
    }
   ],
   "source": [
    "sns.countplot('default_ind',data=data)"
   ]
  },
  {
   "cell_type": "code",
   "execution_count": 21,
   "metadata": {},
   "outputs": [
    {
     "data": {
      "text/plain": [
       "loan_amnt                    -0.004907\n",
       "funded_amnt                  -0.005797\n",
       "funded_amnt_inv              -0.008209\n",
       "int_rate                      0.155037\n",
       "installment                   0.004753\n",
       "annual_inc                   -0.037066\n",
       "dti                           0.004429\n",
       "delinq_2yrs                  -0.009186\n",
       "inq_last_6mths                0.074407\n",
       "mths_since_last_delinq        0.001317\n",
       "open_acc                     -0.021698\n",
       "pub_rec                      -0.019607\n",
       "revol_bal                    -0.020696\n",
       "revol_util                    0.044497\n",
       "total_acc                    -0.021087\n",
       "out_prncp                    -0.225960\n",
       "out_prncp_inv                -0.225959\n",
       "total_pymnt                  -0.039220\n",
       "total_pymnt_inv              -0.040232\n",
       "total_rec_prncp              -0.090336\n",
       "total_rec_int                 0.046050\n",
       "total_rec_late_fee            0.140760\n",
       "recoveries                    0.475738\n",
       "collection_recovery_fee       0.330764\n",
       "last_pymnt_amnt              -0.087217\n",
       "collections_12_mths_ex_med   -0.010650\n",
       "tot_coll_amt                 -0.001921\n",
       "tot_cur_bal                  -0.036335\n",
       "total_rev_hi_lim             -0.033620\n",
       "default_ind                   1.000000\n",
       "Name: default_ind, dtype: float64"
      ]
     },
     "execution_count": 21,
     "metadata": {},
     "output_type": "execute_result"
    }
   ],
   "source": [
    "list_1=data[data.columns].corr()['default_ind'][:]\n",
    "data[data.columns].corr()['default_ind'][:]"
   ]
  },
  {
   "cell_type": "markdown",
   "metadata": {},
   "source": [
    "__Removing columns with very low Correlation__"
   ]
  },
  {
   "cell_type": "code",
   "execution_count": 22,
   "metadata": {},
   "outputs": [],
   "source": [
    "list_2=[]\n",
    "for i in range(len(list_1)):\n",
    "    if list_1[i]<0.02 and list_1[i]>(-0.02):\n",
    "        list_2.append(list_1.index[i])"
   ]
  },
  {
   "cell_type": "code",
   "execution_count": 23,
   "metadata": {},
   "outputs": [],
   "source": [
    "for i in range(len(list_2)):\n",
    "    del data['{}'.format(list_2[i])]"
   ]
  },
  {
   "cell_type": "code",
   "execution_count": 24,
   "metadata": {},
   "outputs": [
    {
     "data": {
      "text/html": [
       "<div>\n",
       "<style scoped>\n",
       "    .dataframe tbody tr th:only-of-type {\n",
       "        vertical-align: middle;\n",
       "    }\n",
       "\n",
       "    .dataframe tbody tr th {\n",
       "        vertical-align: top;\n",
       "    }\n",
       "\n",
       "    .dataframe thead th {\n",
       "        text-align: right;\n",
       "    }\n",
       "</style>\n",
       "<table border=\"1\" class=\"dataframe\">\n",
       "  <thead>\n",
       "    <tr style=\"text-align: right;\">\n",
       "      <th></th>\n",
       "      <th>term</th>\n",
       "      <th>int_rate</th>\n",
       "      <th>grade</th>\n",
       "      <th>sub_grade</th>\n",
       "      <th>emp_length</th>\n",
       "      <th>home_ownership</th>\n",
       "      <th>annual_inc</th>\n",
       "      <th>verification_status</th>\n",
       "      <th>issue_d</th>\n",
       "      <th>purpose</th>\n",
       "      <th>addr_state</th>\n",
       "      <th>earliest_cr_line</th>\n",
       "      <th>inq_last_6mths</th>\n",
       "      <th>open_acc</th>\n",
       "      <th>revol_bal</th>\n",
       "      <th>revol_util</th>\n",
       "      <th>total_acc</th>\n",
       "      <th>initial_list_status</th>\n",
       "      <th>out_prncp</th>\n",
       "      <th>out_prncp_inv</th>\n",
       "      <th>total_pymnt</th>\n",
       "      <th>total_pymnt_inv</th>\n",
       "      <th>total_rec_prncp</th>\n",
       "      <th>total_rec_int</th>\n",
       "      <th>total_rec_late_fee</th>\n",
       "      <th>recoveries</th>\n",
       "      <th>collection_recovery_fee</th>\n",
       "      <th>last_pymnt_d</th>\n",
       "      <th>last_pymnt_amnt</th>\n",
       "      <th>next_pymnt_d</th>\n",
       "      <th>last_credit_pull_d</th>\n",
       "      <th>tot_cur_bal</th>\n",
       "      <th>total_rev_hi_lim</th>\n",
       "      <th>default_ind</th>\n",
       "    </tr>\n",
       "  </thead>\n",
       "  <tbody>\n",
       "    <tr>\n",
       "      <th>0</th>\n",
       "      <td>36 months</td>\n",
       "      <td>10.65</td>\n",
       "      <td>B</td>\n",
       "      <td>B2</td>\n",
       "      <td>10+ years</td>\n",
       "      <td>RENT</td>\n",
       "      <td>24000.0</td>\n",
       "      <td>Verified</td>\n",
       "      <td>2011-12-01</td>\n",
       "      <td>credit_card</td>\n",
       "      <td>AZ</td>\n",
       "      <td>Jan-1985</td>\n",
       "      <td>1.0</td>\n",
       "      <td>3.0</td>\n",
       "      <td>13648.0</td>\n",
       "      <td>83.7</td>\n",
       "      <td>9.0</td>\n",
       "      <td>f</td>\n",
       "      <td>0.0</td>\n",
       "      <td>0.0</td>\n",
       "      <td>5861.071414</td>\n",
       "      <td>5831.78</td>\n",
       "      <td>5000.00</td>\n",
       "      <td>861.07</td>\n",
       "      <td>0.00</td>\n",
       "      <td>0.00</td>\n",
       "      <td>0.00</td>\n",
       "      <td>Jan-2015</td>\n",
       "      <td>171.62</td>\n",
       "      <td>NaN</td>\n",
       "      <td>Jan-2016</td>\n",
       "      <td>NaN</td>\n",
       "      <td>NaN</td>\n",
       "      <td>0</td>\n",
       "    </tr>\n",
       "    <tr>\n",
       "      <th>1</th>\n",
       "      <td>60 months</td>\n",
       "      <td>15.27</td>\n",
       "      <td>C</td>\n",
       "      <td>C4</td>\n",
       "      <td>&lt; 1 year</td>\n",
       "      <td>RENT</td>\n",
       "      <td>30000.0</td>\n",
       "      <td>Source Verified</td>\n",
       "      <td>2011-12-01</td>\n",
       "      <td>car</td>\n",
       "      <td>GA</td>\n",
       "      <td>Apr-1999</td>\n",
       "      <td>5.0</td>\n",
       "      <td>3.0</td>\n",
       "      <td>1687.0</td>\n",
       "      <td>9.4</td>\n",
       "      <td>4.0</td>\n",
       "      <td>f</td>\n",
       "      <td>0.0</td>\n",
       "      <td>0.0</td>\n",
       "      <td>1008.710000</td>\n",
       "      <td>1008.71</td>\n",
       "      <td>456.46</td>\n",
       "      <td>435.17</td>\n",
       "      <td>0.00</td>\n",
       "      <td>117.08</td>\n",
       "      <td>1.11</td>\n",
       "      <td>Apr-2013</td>\n",
       "      <td>119.66</td>\n",
       "      <td>NaN</td>\n",
       "      <td>Sep-2013</td>\n",
       "      <td>NaN</td>\n",
       "      <td>NaN</td>\n",
       "      <td>1</td>\n",
       "    </tr>\n",
       "    <tr>\n",
       "      <th>2</th>\n",
       "      <td>36 months</td>\n",
       "      <td>15.96</td>\n",
       "      <td>C</td>\n",
       "      <td>C5</td>\n",
       "      <td>10+ years</td>\n",
       "      <td>RENT</td>\n",
       "      <td>12252.0</td>\n",
       "      <td>Not Verified</td>\n",
       "      <td>2011-12-01</td>\n",
       "      <td>small_business</td>\n",
       "      <td>IL</td>\n",
       "      <td>Nov-2001</td>\n",
       "      <td>2.0</td>\n",
       "      <td>2.0</td>\n",
       "      <td>2956.0</td>\n",
       "      <td>98.5</td>\n",
       "      <td>10.0</td>\n",
       "      <td>f</td>\n",
       "      <td>0.0</td>\n",
       "      <td>0.0</td>\n",
       "      <td>3003.653644</td>\n",
       "      <td>3003.65</td>\n",
       "      <td>2400.00</td>\n",
       "      <td>603.65</td>\n",
       "      <td>0.00</td>\n",
       "      <td>0.00</td>\n",
       "      <td>0.00</td>\n",
       "      <td>Jun-2014</td>\n",
       "      <td>649.91</td>\n",
       "      <td>NaN</td>\n",
       "      <td>Jan-2016</td>\n",
       "      <td>NaN</td>\n",
       "      <td>NaN</td>\n",
       "      <td>0</td>\n",
       "    </tr>\n",
       "    <tr>\n",
       "      <th>3</th>\n",
       "      <td>36 months</td>\n",
       "      <td>13.49</td>\n",
       "      <td>C</td>\n",
       "      <td>C1</td>\n",
       "      <td>10+ years</td>\n",
       "      <td>RENT</td>\n",
       "      <td>49200.0</td>\n",
       "      <td>Source Verified</td>\n",
       "      <td>2011-12-01</td>\n",
       "      <td>other</td>\n",
       "      <td>CA</td>\n",
       "      <td>Feb-1996</td>\n",
       "      <td>1.0</td>\n",
       "      <td>10.0</td>\n",
       "      <td>5598.0</td>\n",
       "      <td>21.0</td>\n",
       "      <td>37.0</td>\n",
       "      <td>f</td>\n",
       "      <td>0.0</td>\n",
       "      <td>0.0</td>\n",
       "      <td>12226.302212</td>\n",
       "      <td>12226.30</td>\n",
       "      <td>10000.00</td>\n",
       "      <td>2209.33</td>\n",
       "      <td>16.97</td>\n",
       "      <td>0.00</td>\n",
       "      <td>0.00</td>\n",
       "      <td>Jan-2015</td>\n",
       "      <td>357.48</td>\n",
       "      <td>NaN</td>\n",
       "      <td>Jan-2015</td>\n",
       "      <td>NaN</td>\n",
       "      <td>NaN</td>\n",
       "      <td>0</td>\n",
       "    </tr>\n",
       "    <tr>\n",
       "      <th>4</th>\n",
       "      <td>60 months</td>\n",
       "      <td>12.69</td>\n",
       "      <td>B</td>\n",
       "      <td>B5</td>\n",
       "      <td>1 year</td>\n",
       "      <td>RENT</td>\n",
       "      <td>80000.0</td>\n",
       "      <td>Source Verified</td>\n",
       "      <td>2011-12-01</td>\n",
       "      <td>other</td>\n",
       "      <td>OR</td>\n",
       "      <td>Jan-1996</td>\n",
       "      <td>0.0</td>\n",
       "      <td>15.0</td>\n",
       "      <td>27783.0</td>\n",
       "      <td>53.9</td>\n",
       "      <td>38.0</td>\n",
       "      <td>f</td>\n",
       "      <td>766.9</td>\n",
       "      <td>766.9</td>\n",
       "      <td>3242.170000</td>\n",
       "      <td>3242.17</td>\n",
       "      <td>2233.10</td>\n",
       "      <td>1009.07</td>\n",
       "      <td>0.00</td>\n",
       "      <td>0.00</td>\n",
       "      <td>0.00</td>\n",
       "      <td>Jan-2016</td>\n",
       "      <td>67.79</td>\n",
       "      <td>Feb-2016</td>\n",
       "      <td>Jan-2016</td>\n",
       "      <td>NaN</td>\n",
       "      <td>NaN</td>\n",
       "      <td>0</td>\n",
       "    </tr>\n",
       "  </tbody>\n",
       "</table>\n",
       "</div>"
      ],
      "text/plain": [
       "         term  int_rate grade sub_grade emp_length home_ownership  annual_inc  \\\n",
       "0   36 months     10.65     B        B2  10+ years           RENT     24000.0   \n",
       "1   60 months     15.27     C        C4   < 1 year           RENT     30000.0   \n",
       "2   36 months     15.96     C        C5  10+ years           RENT     12252.0   \n",
       "3   36 months     13.49     C        C1  10+ years           RENT     49200.0   \n",
       "4   60 months     12.69     B        B5     1 year           RENT     80000.0   \n",
       "\n",
       "  verification_status    issue_d         purpose addr_state earliest_cr_line  \\\n",
       "0            Verified 2011-12-01     credit_card         AZ         Jan-1985   \n",
       "1     Source Verified 2011-12-01             car         GA         Apr-1999   \n",
       "2        Not Verified 2011-12-01  small_business         IL         Nov-2001   \n",
       "3     Source Verified 2011-12-01           other         CA         Feb-1996   \n",
       "4     Source Verified 2011-12-01           other         OR         Jan-1996   \n",
       "\n",
       "   inq_last_6mths  open_acc  revol_bal  revol_util  total_acc  \\\n",
       "0             1.0       3.0    13648.0        83.7        9.0   \n",
       "1             5.0       3.0     1687.0         9.4        4.0   \n",
       "2             2.0       2.0     2956.0        98.5       10.0   \n",
       "3             1.0      10.0     5598.0        21.0       37.0   \n",
       "4             0.0      15.0    27783.0        53.9       38.0   \n",
       "\n",
       "  initial_list_status  out_prncp  out_prncp_inv   total_pymnt  \\\n",
       "0                   f        0.0            0.0   5861.071414   \n",
       "1                   f        0.0            0.0   1008.710000   \n",
       "2                   f        0.0            0.0   3003.653644   \n",
       "3                   f        0.0            0.0  12226.302212   \n",
       "4                   f      766.9          766.9   3242.170000   \n",
       "\n",
       "   total_pymnt_inv  total_rec_prncp  total_rec_int  total_rec_late_fee  \\\n",
       "0          5831.78          5000.00         861.07                0.00   \n",
       "1          1008.71           456.46         435.17                0.00   \n",
       "2          3003.65          2400.00         603.65                0.00   \n",
       "3         12226.30         10000.00        2209.33               16.97   \n",
       "4          3242.17          2233.10        1009.07                0.00   \n",
       "\n",
       "   recoveries  collection_recovery_fee last_pymnt_d  last_pymnt_amnt  \\\n",
       "0        0.00                     0.00     Jan-2015           171.62   \n",
       "1      117.08                     1.11     Apr-2013           119.66   \n",
       "2        0.00                     0.00     Jun-2014           649.91   \n",
       "3        0.00                     0.00     Jan-2015           357.48   \n",
       "4        0.00                     0.00     Jan-2016            67.79   \n",
       "\n",
       "  next_pymnt_d last_credit_pull_d  tot_cur_bal  total_rev_hi_lim  default_ind  \n",
       "0          NaN           Jan-2016          NaN               NaN            0  \n",
       "1          NaN           Sep-2013          NaN               NaN            1  \n",
       "2          NaN           Jan-2016          NaN               NaN            0  \n",
       "3          NaN           Jan-2015          NaN               NaN            0  \n",
       "4     Feb-2016           Jan-2016          NaN               NaN            0  "
      ]
     },
     "execution_count": 24,
     "metadata": {},
     "output_type": "execute_result"
    }
   ],
   "source": [
    "data.head()"
   ]
  },
  {
   "cell_type": "code",
   "execution_count": 25,
   "metadata": {},
   "outputs": [
    {
     "data": {
      "text/plain": [
       "(855969, 34)"
      ]
     },
     "execution_count": 25,
     "metadata": {},
     "output_type": "execute_result"
    }
   ],
   "source": [
    "data.shape"
   ]
  },
  {
   "cell_type": "markdown",
   "metadata": {},
   "source": [
    "# Categrical data"
   ]
  },
  {
   "cell_type": "markdown",
   "metadata": {},
   "source": [
    "## verification_status"
   ]
  },
  {
   "cell_type": "code",
   "execution_count": 26,
   "metadata": {},
   "outputs": [
    {
     "data": {
      "text/plain": [
       "<matplotlib.axes._subplots.AxesSubplot at 0x7fcdd69f4a30>"
      ]
     },
     "execution_count": 26,
     "metadata": {},
     "output_type": "execute_result"
    },
    {
     "data": {
      "image/png": "[encoded data removed]",
      "text/plain": [
       "<Figure size 432x288 with 1 Axes>"
      ]
     },
     "metadata": {
      "needs_background": "light"
     },
     "output_type": "display_data"
    }
   ],
   "source": [
    "sns.countplot('verification_status',data=data,hue='default_ind')"
   ]
  },
  {
   "cell_type": "code",
   "execution_count": 27,
   "metadata": {},
   "outputs": [
    {
     "data": {
      "text/html": [
       "<div>\n",
       "<style scoped>\n",
       "    .dataframe tbody tr th:only-of-type {\n",
       "        vertical-align: middle;\n",
       "    }\n",
       "\n",
       "    .dataframe tbody tr th {\n",
       "        vertical-align: top;\n",
       "    }\n",
       "\n",
       "    .dataframe thead th {\n",
       "        text-align: right;\n",
       "    }\n",
       "</style>\n",
       "<table border=\"1\" class=\"dataframe\">\n",
       "  <thead>\n",
       "    <tr style=\"text-align: right;\">\n",
       "      <th></th>\n",
       "      <th>VStatus_Not Verified</th>\n",
       "      <th>VStatus_Source Verified</th>\n",
       "      <th>VStatus_Verified</th>\n",
       "    </tr>\n",
       "  </thead>\n",
       "  <tbody>\n",
       "    <tr>\n",
       "      <th>0</th>\n",
       "      <td>0</td>\n",
       "      <td>0</td>\n",
       "      <td>1</td>\n",
       "    </tr>\n",
       "    <tr>\n",
       "      <th>1</th>\n",
       "      <td>0</td>\n",
       "      <td>1</td>\n",
       "      <td>0</td>\n",
       "    </tr>\n",
       "    <tr>\n",
       "      <th>2</th>\n",
       "      <td>1</td>\n",
       "      <td>0</td>\n",
       "      <td>0</td>\n",
       "    </tr>\n",
       "    <tr>\n",
       "      <th>3</th>\n",
       "      <td>0</td>\n",
       "      <td>1</td>\n",
       "      <td>0</td>\n",
       "    </tr>\n",
       "    <tr>\n",
       "      <th>4</th>\n",
       "      <td>0</td>\n",
       "      <td>1</td>\n",
       "      <td>0</td>\n",
       "    </tr>\n",
       "    <tr>\n",
       "      <th>...</th>\n",
       "      <td>...</td>\n",
       "      <td>...</td>\n",
       "      <td>...</td>\n",
       "    </tr>\n",
       "    <tr>\n",
       "      <th>855964</th>\n",
       "      <td>0</td>\n",
       "      <td>0</td>\n",
       "      <td>1</td>\n",
       "    </tr>\n",
       "    <tr>\n",
       "      <th>855965</th>\n",
       "      <td>0</td>\n",
       "      <td>0</td>\n",
       "      <td>1</td>\n",
       "    </tr>\n",
       "    <tr>\n",
       "      <th>855966</th>\n",
       "      <td>0</td>\n",
       "      <td>0</td>\n",
       "      <td>1</td>\n",
       "    </tr>\n",
       "    <tr>\n",
       "      <th>855967</th>\n",
       "      <td>0</td>\n",
       "      <td>1</td>\n",
       "      <td>0</td>\n",
       "    </tr>\n",
       "    <tr>\n",
       "      <th>855968</th>\n",
       "      <td>0</td>\n",
       "      <td>0</td>\n",
       "      <td>1</td>\n",
       "    </tr>\n",
       "  </tbody>\n",
       "</table>\n",
       "<p>855969 rows × 3 columns</p>\n",
       "</div>"
      ],
      "text/plain": [
       "        VStatus_Not Verified  VStatus_Source Verified  VStatus_Verified\n",
       "0                          0                        0                 1\n",
       "1                          0                        1                 0\n",
       "2                          1                        0                 0\n",
       "3                          0                        1                 0\n",
       "4                          0                        1                 0\n",
       "...                      ...                      ...               ...\n",
       "855964                     0                        0                 1\n",
       "855965                     0                        0                 1\n",
       "855966                     0                        0                 1\n",
       "855967                     0                        1                 0\n",
       "855968                     0                        0                 1\n",
       "\n",
       "[855969 rows x 3 columns]"
      ]
     },
     "execution_count": 27,
     "metadata": {},
     "output_type": "execute_result"
    }
   ],
   "source": [
    "df2 = pd.get_dummies(data['verification_status'], prefix='VStatus')\n",
    "df2"
   ]
  },
  {
   "cell_type": "code",
   "execution_count": 28,
   "metadata": {},
   "outputs": [],
   "source": [
    "del data['verification_status']"
   ]
  },
  {
   "cell_type": "code",
   "execution_count": 29,
   "metadata": {},
   "outputs": [
    {
     "data": {
      "text/html": [
       "<div>\n",
       "<style scoped>\n",
       "    .dataframe tbody tr th:only-of-type {\n",
       "        vertical-align: middle;\n",
       "    }\n",
       "\n",
       "    .dataframe tbody tr th {\n",
       "        vertical-align: top;\n",
       "    }\n",
       "\n",
       "    .dataframe thead th {\n",
       "        text-align: right;\n",
       "    }\n",
       "</style>\n",
       "<table border=\"1\" class=\"dataframe\">\n",
       "  <thead>\n",
       "    <tr style=\"text-align: right;\">\n",
       "      <th></th>\n",
       "      <th>VStatus_Not Verified</th>\n",
       "      <th>VStatus_Source Verified</th>\n",
       "      <th>VStatus_Verified</th>\n",
       "      <th>term</th>\n",
       "      <th>int_rate</th>\n",
       "      <th>grade</th>\n",
       "      <th>sub_grade</th>\n",
       "      <th>emp_length</th>\n",
       "      <th>home_ownership</th>\n",
       "      <th>annual_inc</th>\n",
       "      <th>issue_d</th>\n",
       "      <th>purpose</th>\n",
       "      <th>addr_state</th>\n",
       "      <th>earliest_cr_line</th>\n",
       "      <th>inq_last_6mths</th>\n",
       "      <th>open_acc</th>\n",
       "      <th>revol_bal</th>\n",
       "      <th>revol_util</th>\n",
       "      <th>total_acc</th>\n",
       "      <th>initial_list_status</th>\n",
       "      <th>out_prncp</th>\n",
       "      <th>out_prncp_inv</th>\n",
       "      <th>total_pymnt</th>\n",
       "      <th>total_pymnt_inv</th>\n",
       "      <th>total_rec_prncp</th>\n",
       "      <th>total_rec_int</th>\n",
       "      <th>total_rec_late_fee</th>\n",
       "      <th>recoveries</th>\n",
       "      <th>collection_recovery_fee</th>\n",
       "      <th>last_pymnt_d</th>\n",
       "      <th>last_pymnt_amnt</th>\n",
       "      <th>next_pymnt_d</th>\n",
       "      <th>last_credit_pull_d</th>\n",
       "      <th>tot_cur_bal</th>\n",
       "      <th>total_rev_hi_lim</th>\n",
       "      <th>default_ind</th>\n",
       "    </tr>\n",
       "  </thead>\n",
       "  <tbody>\n",
       "    <tr>\n",
       "      <th>0</th>\n",
       "      <td>0</td>\n",
       "      <td>0</td>\n",
       "      <td>1</td>\n",
       "      <td>36 months</td>\n",
       "      <td>10.65</td>\n",
       "      <td>B</td>\n",
       "      <td>B2</td>\n",
       "      <td>10+ years</td>\n",
       "      <td>RENT</td>\n",
       "      <td>24000.0</td>\n",
       "      <td>2011-12-01</td>\n",
       "      <td>credit_card</td>\n",
       "      <td>AZ</td>\n",
       "      <td>Jan-1985</td>\n",
       "      <td>1.0</td>\n",
       "      <td>3.0</td>\n",
       "      <td>13648.0</td>\n",
       "      <td>83.7</td>\n",
       "      <td>9.0</td>\n",
       "      <td>f</td>\n",
       "      <td>0.0</td>\n",
       "      <td>0.0</td>\n",
       "      <td>5861.071414</td>\n",
       "      <td>5831.78</td>\n",
       "      <td>5000.00</td>\n",
       "      <td>861.07</td>\n",
       "      <td>0.00</td>\n",
       "      <td>0.00</td>\n",
       "      <td>0.00</td>\n",
       "      <td>Jan-2015</td>\n",
       "      <td>171.62</td>\n",
       "      <td>NaN</td>\n",
       "      <td>Jan-2016</td>\n",
       "      <td>NaN</td>\n",
       "      <td>NaN</td>\n",
       "      <td>0</td>\n",
       "    </tr>\n",
       "    <tr>\n",
       "      <th>1</th>\n",
       "      <td>0</td>\n",
       "      <td>1</td>\n",
       "      <td>0</td>\n",
       "      <td>60 months</td>\n",
       "      <td>15.27</td>\n",
       "      <td>C</td>\n",
       "      <td>C4</td>\n",
       "      <td>&lt; 1 year</td>\n",
       "      <td>RENT</td>\n",
       "      <td>30000.0</td>\n",
       "      <td>2011-12-01</td>\n",
       "      <td>car</td>\n",
       "      <td>GA</td>\n",
       "      <td>Apr-1999</td>\n",
       "      <td>5.0</td>\n",
       "      <td>3.0</td>\n",
       "      <td>1687.0</td>\n",
       "      <td>9.4</td>\n",
       "      <td>4.0</td>\n",
       "      <td>f</td>\n",
       "      <td>0.0</td>\n",
       "      <td>0.0</td>\n",
       "      <td>1008.710000</td>\n",
       "      <td>1008.71</td>\n",
       "      <td>456.46</td>\n",
       "      <td>435.17</td>\n",
       "      <td>0.00</td>\n",
       "      <td>117.08</td>\n",
       "      <td>1.11</td>\n",
       "      <td>Apr-2013</td>\n",
       "      <td>119.66</td>\n",
       "      <td>NaN</td>\n",
       "      <td>Sep-2013</td>\n",
       "      <td>NaN</td>\n",
       "      <td>NaN</td>\n",
       "      <td>1</td>\n",
       "    </tr>\n",
       "    <tr>\n",
       "      <th>2</th>\n",
       "      <td>1</td>\n",
       "      <td>0</td>\n",
       "      <td>0</td>\n",
       "      <td>36 months</td>\n",
       "      <td>15.96</td>\n",
       "      <td>C</td>\n",
       "      <td>C5</td>\n",
       "      <td>10+ years</td>\n",
       "      <td>RENT</td>\n",
       "      <td>12252.0</td>\n",
       "      <td>2011-12-01</td>\n",
       "      <td>small_business</td>\n",
       "      <td>IL</td>\n",
       "      <td>Nov-2001</td>\n",
       "      <td>2.0</td>\n",
       "      <td>2.0</td>\n",
       "      <td>2956.0</td>\n",
       "      <td>98.5</td>\n",
       "      <td>10.0</td>\n",
       "      <td>f</td>\n",
       "      <td>0.0</td>\n",
       "      <td>0.0</td>\n",
       "      <td>3003.653644</td>\n",
       "      <td>3003.65</td>\n",
       "      <td>2400.00</td>\n",
       "      <td>603.65</td>\n",
       "      <td>0.00</td>\n",
       "      <td>0.00</td>\n",
       "      <td>0.00</td>\n",
       "      <td>Jun-2014</td>\n",
       "      <td>649.91</td>\n",
       "      <td>NaN</td>\n",
       "      <td>Jan-2016</td>\n",
       "      <td>NaN</td>\n",
       "      <td>NaN</td>\n",
       "      <td>0</td>\n",
       "    </tr>\n",
       "    <tr>\n",
       "      <th>3</th>\n",
       "      <td>0</td>\n",
       "      <td>1</td>\n",
       "      <td>0</td>\n",
       "      <td>36 months</td>\n",
       "      <td>13.49</td>\n",
       "      <td>C</td>\n",
       "      <td>C1</td>\n",
       "      <td>10+ years</td>\n",
       "      <td>RENT</td>\n",
       "      <td>49200.0</td>\n",
       "      <td>2011-12-01</td>\n",
       "      <td>other</td>\n",
       "      <td>CA</td>\n",
       "      <td>Feb-1996</td>\n",
       "      <td>1.0</td>\n",
       "      <td>10.0</td>\n",
       "      <td>5598.0</td>\n",
       "      <td>21.0</td>\n",
       "      <td>37.0</td>\n",
       "      <td>f</td>\n",
       "      <td>0.0</td>\n",
       "      <td>0.0</td>\n",
       "      <td>12226.302212</td>\n",
       "      <td>12226.30</td>\n",
       "      <td>10000.00</td>\n",
       "      <td>2209.33</td>\n",
       "      <td>16.97</td>\n",
       "      <td>0.00</td>\n",
       "      <td>0.00</td>\n",
       "      <td>Jan-2015</td>\n",
       "      <td>357.48</td>\n",
       "      <td>NaN</td>\n",
       "      <td>Jan-2015</td>\n",
       "      <td>NaN</td>\n",
       "      <td>NaN</td>\n",
       "      <td>0</td>\n",
       "    </tr>\n",
       "    <tr>\n",
       "      <th>4</th>\n",
       "      <td>0</td>\n",
       "      <td>1</td>\n",
       "      <td>0</td>\n",
       "      <td>60 months</td>\n",
       "      <td>12.69</td>\n",
       "      <td>B</td>\n",
       "      <td>B5</td>\n",
       "      <td>1 year</td>\n",
       "      <td>RENT</td>\n",
       "      <td>80000.0</td>\n",
       "      <td>2011-12-01</td>\n",
       "      <td>other</td>\n",
       "      <td>OR</td>\n",
       "      <td>Jan-1996</td>\n",
       "      <td>0.0</td>\n",
       "      <td>15.0</td>\n",
       "      <td>27783.0</td>\n",
       "      <td>53.9</td>\n",
       "      <td>38.0</td>\n",
       "      <td>f</td>\n",
       "      <td>766.9</td>\n",
       "      <td>766.9</td>\n",
       "      <td>3242.170000</td>\n",
       "      <td>3242.17</td>\n",
       "      <td>2233.10</td>\n",
       "      <td>1009.07</td>\n",
       "      <td>0.00</td>\n",
       "      <td>0.00</td>\n",
       "      <td>0.00</td>\n",
       "      <td>Jan-2016</td>\n",
       "      <td>67.79</td>\n",
       "      <td>Feb-2016</td>\n",
       "      <td>Jan-2016</td>\n",
       "      <td>NaN</td>\n",
       "      <td>NaN</td>\n",
       "      <td>0</td>\n",
       "    </tr>\n",
       "  </tbody>\n",
       "</table>\n",
       "</div>"
      ],
      "text/plain": [
       "   VStatus_Not Verified  VStatus_Source Verified  VStatus_Verified  \\\n",
       "0                     0                        0                 1   \n",
       "1                     0                        1                 0   \n",
       "2                     1                        0                 0   \n",
       "3                     0                        1                 0   \n",
       "4                     0                        1                 0   \n",
       "\n",
       "         term  int_rate grade sub_grade emp_length home_ownership  annual_inc  \\\n",
       "0   36 months     10.65     B        B2  10+ years           RENT     24000.0   \n",
       "1   60 months     15.27     C        C4   < 1 year           RENT     30000.0   \n",
       "2   36 months     15.96     C        C5  10+ years           RENT     12252.0   \n",
       "3   36 months     13.49     C        C1  10+ years           RENT     49200.0   \n",
       "4   60 months     12.69     B        B5     1 year           RENT     80000.0   \n",
       "\n",
       "     issue_d         purpose addr_state earliest_cr_line  inq_last_6mths  \\\n",
       "0 2011-12-01     credit_card         AZ         Jan-1985             1.0   \n",
       "1 2011-12-01             car         GA         Apr-1999             5.0   \n",
       "2 2011-12-01  small_business         IL         Nov-2001             2.0   \n",
       "3 2011-12-01           other         CA         Feb-1996             1.0   \n",
       "4 2011-12-01           other         OR         Jan-1996             0.0   \n",
       "\n",
       "   open_acc  revol_bal  revol_util  total_acc initial_list_status  out_prncp  \\\n",
       "0       3.0    13648.0        83.7        9.0                   f        0.0   \n",
       "1       3.0     1687.0         9.4        4.0                   f        0.0   \n",
       "2       2.0     2956.0        98.5       10.0                   f        0.0   \n",
       "3      10.0     5598.0        21.0       37.0                   f        0.0   \n",
       "4      15.0    27783.0        53.9       38.0                   f      766.9   \n",
       "\n",
       "   out_prncp_inv   total_pymnt  total_pymnt_inv  total_rec_prncp  \\\n",
       "0            0.0   5861.071414          5831.78          5000.00   \n",
       "1            0.0   1008.710000          1008.71           456.46   \n",
       "2            0.0   3003.653644          3003.65          2400.00   \n",
       "3            0.0  12226.302212         12226.30         10000.00   \n",
       "4          766.9   3242.170000          3242.17          2233.10   \n",
       "\n",
       "   total_rec_int  total_rec_late_fee  recoveries  collection_recovery_fee  \\\n",
       "0         861.07                0.00        0.00                     0.00   \n",
       "1         435.17                0.00      117.08                     1.11   \n",
       "2         603.65                0.00        0.00                     0.00   \n",
       "3        2209.33               16.97        0.00                     0.00   \n",
       "4        1009.07                0.00        0.00                     0.00   \n",
       "\n",
       "  last_pymnt_d  last_pymnt_amnt next_pymnt_d last_credit_pull_d  tot_cur_bal  \\\n",
       "0     Jan-2015           171.62          NaN           Jan-2016          NaN   \n",
       "1     Apr-2013           119.66          NaN           Sep-2013          NaN   \n",
       "2     Jun-2014           649.91          NaN           Jan-2016          NaN   \n",
       "3     Jan-2015           357.48          NaN           Jan-2015          NaN   \n",
       "4     Jan-2016            67.79     Feb-2016           Jan-2016          NaN   \n",
       "\n",
       "   total_rev_hi_lim  default_ind  \n",
       "0               NaN            0  \n",
       "1               NaN            1  \n",
       "2               NaN            0  \n",
       "3               NaN            0  \n",
       "4               NaN            0  "
      ]
     },
     "execution_count": 29,
     "metadata": {},
     "output_type": "execute_result"
    }
   ],
   "source": [
    "data=pd.concat([df2,data],axis=1)\n",
    "data.head()"
   ]
  },
  {
   "cell_type": "code",
   "execution_count": 30,
   "metadata": {},
   "outputs": [
    {
     "data": {
      "text/plain": [
       "(855969, 36)"
      ]
     },
     "execution_count": 30,
     "metadata": {},
     "output_type": "execute_result"
    }
   ],
   "source": [
    "data.shape"
   ]
  },
  {
   "cell_type": "markdown",
   "metadata": {},
   "source": [
    "## initial_list_status\n",
    "__Replacing__\n",
    "\n",
    "- F => 0\n",
    "- W => 1"
   ]
  },
  {
   "cell_type": "code",
   "execution_count": 31,
   "metadata": {},
   "outputs": [
    {
     "data": {
      "text/plain": [
       "f    442555\n",
       "w    413414\n",
       "Name: initial_list_status, dtype: int64"
      ]
     },
     "execution_count": 31,
     "metadata": {},
     "output_type": "execute_result"
    }
   ],
   "source": [
    "data['initial_list_status'].value_counts()"
   ]
  },
  {
   "cell_type": "code",
   "execution_count": 33,
   "metadata": {},
   "outputs": [
    {
     "data": {
      "text/plain": [
       "0    442555\n",
       "1    413414\n",
       "Name: initial_list_status, dtype: int64"
      ]
     },
     "execution_count": 33,
     "metadata": {},
     "output_type": "execute_result"
    }
   ],
   "source": [
    "data['initial_list_status'] = np.where(data['initial_list_status']=='f', 0, data['initial_list_status'])\n",
    "data['initial_list_status'] = np.where(data['initial_list_status']=='w', 1, data['initial_list_status'])\n",
    "data['initial_list_status'].value_counts()"
   ]
  },
  {
   "cell_type": "code",
   "execution_count": 34,
   "metadata": {},
   "outputs": [
    {
     "data": {
      "text/plain": [
       "<matplotlib.axes._subplots.AxesSubplot at 0x7fcdd6085850>"
      ]
     },
     "execution_count": 34,
     "metadata": {},
     "output_type": "execute_result"
    },
    {
     "data": {
      "image/png": "[encoded data removed]",
      "text/plain": [
       "<Figure size 432x288 with 1 Axes>"
      ]
     },
     "metadata": {
      "needs_background": "light"
     },
     "output_type": "display_data"
    }
   ],
   "source": [
    "sns.countplot('initial_list_status',data=data,hue='default_ind')"
   ]
  },
  {
   "cell_type": "code",
   "execution_count": 35,
   "metadata": {},
   "outputs": [],
   "source": [
    "data['initial_list_status']=data['initial_list_status'].astype(float)"
   ]
  },
  {
   "cell_type": "markdown",
   "metadata": {},
   "source": [
    "# Term"
   ]
  },
  {
   "cell_type": "code",
   "execution_count": 36,
   "metadata": {},
   "outputs": [
    {
     "data": {
      "text/plain": [
       " 36 months    600221\n",
       " 60 months    255748\n",
       "Name: term, dtype: int64"
      ]
     },
     "execution_count": 36,
     "metadata": {},
     "output_type": "execute_result"
    }
   ],
   "source": [
    "data['term'].value_counts()"
   ]
  },
  {
   "cell_type": "code",
   "execution_count": 37,
   "metadata": {},
   "outputs": [
    {
     "data": {
      "text/plain": [
       "<matplotlib.axes._subplots.AxesSubplot at 0x7fcdd6069490>"
      ]
     },
     "execution_count": 37,
     "metadata": {},
     "output_type": "execute_result"
    },
    {
     "data": {
      "image/png": "[encoded data removed]",
      "text/plain": [
       "<Figure size 432x288 with 1 Axes>"
      ]
     },
     "metadata": {
      "needs_background": "light"
     },
     "output_type": "display_data"
    }
   ],
   "source": [
    "sns.countplot('term',data=data,hue='default_ind')"
   ]
  },
  {
   "cell_type": "markdown",
   "metadata": {},
   "source": [
    "#### replacing\n",
    "- 36 months => 0\n",
    "- 60 months => 1"
   ]
  },
  {
   "cell_type": "code",
   "execution_count": 38,
   "metadata": {},
   "outputs": [
    {
     "data": {
      "text/plain": [
       "0    600221\n",
       "1    255748\n",
       "Name: term, dtype: int64"
      ]
     },
     "execution_count": 38,
     "metadata": {},
     "output_type": "execute_result"
    }
   ],
   "source": [
    "data['term'] = np.where(data['term']==' 36 months', 0, data['term'])\n",
    "data['term'] = np.where(data['term']==' 60 months', 1, data['term'])\n",
    "data['term'].value_counts()"
   ]
  },
  {
   "cell_type": "code",
   "execution_count": 39,
   "metadata": {},
   "outputs": [],
   "source": [
    "data['term']=data['term'].astype(float)"
   ]
  },
  {
   "cell_type": "markdown",
   "metadata": {},
   "source": [
    "# Grade\n"
   ]
  },
  {
   "cell_type": "code",
   "execution_count": 40,
   "metadata": {},
   "outputs": [
    {
     "data": {
      "text/plain": [
       "B    247998\n",
       "C    236855\n",
       "A    145665\n",
       "D    132802\n",
       "E     66448\n",
       "F     21328\n",
       "G      4873\n",
       "Name: grade, dtype: int64"
      ]
     },
     "execution_count": 40,
     "metadata": {},
     "output_type": "execute_result"
    }
   ],
   "source": [
    "data['grade'].value_counts()"
   ]
  },
  {
   "cell_type": "code",
   "execution_count": 41,
   "metadata": {},
   "outputs": [
    {
     "data": {
      "text/plain": [
       "<matplotlib.axes._subplots.AxesSubplot at 0x7fcdd5fcbe80>"
      ]
     },
     "execution_count": 41,
     "metadata": {},
     "output_type": "execute_result"
    },
    {
     "data": {
      "image/png": "[encoded data removed]",
      "text/plain": [
       "<Figure size 432x288 with 1 Axes>"
      ]
     },
     "metadata": {
      "needs_background": "light"
     },
     "output_type": "display_data"
    }
   ],
   "source": [
    "sns.countplot('grade',data=data,hue='default_ind',saturation=0.5)"
   ]
  },
  {
   "cell_type": "code",
   "execution_count": 42,
   "metadata": {},
   "outputs": [
    {
     "data": {
      "text/plain": [
       "1    247998\n",
       "2    236855\n",
       "0    145665\n",
       "3    132802\n",
       "4     66448\n",
       "5     21328\n",
       "6      4873\n",
       "Name: grade, dtype: int64"
      ]
     },
     "execution_count": 42,
     "metadata": {},
     "output_type": "execute_result"
    }
   ],
   "source": [
    "data['grade'] = np.where(data['grade']=='A', 0, data['grade'])\n",
    "data['grade'] = np.where(data['grade']=='B', 1, data['grade'])\n",
    "data['grade'] = np.where(data['grade']=='C', 2, data['grade'])\n",
    "data['grade'] = np.where(data['grade']=='D', 3, data['grade'])\n",
    "data['grade'] = np.where(data['grade']=='E', 4, data['grade'])\n",
    "data['grade'] = np.where(data['grade']=='F', 5, data['grade'])\n",
    "data['grade'] = np.where(data['grade']=='G', 6, data['grade'])\n",
    "data['grade'].value_counts()"
   ]
  },
  {
   "cell_type": "code",
   "execution_count": 43,
   "metadata": {},
   "outputs": [],
   "source": [
    "data['grade']=data['grade'].astype(float)"
   ]
  },
  {
   "cell_type": "markdown",
   "metadata": {},
   "source": [
    "# Home_Ownership"
   ]
  },
  {
   "cell_type": "code",
   "execution_count": 44,
   "metadata": {},
   "outputs": [
    {
     "data": {
      "text/plain": [
       "MORTGAGE    429106\n",
       "RENT        342535\n",
       "OWN          84136\n",
       "OTHER          144\n",
       "NONE            45\n",
       "ANY              3\n",
       "Name: home_ownership, dtype: int64"
      ]
     },
     "execution_count": 44,
     "metadata": {},
     "output_type": "execute_result"
    }
   ],
   "source": [
    "data['home_ownership'].value_counts()"
   ]
  },
  {
   "cell_type": "code",
   "execution_count": 45,
   "metadata": {},
   "outputs": [
    {
     "data": {
      "text/plain": [
       "<matplotlib.axes._subplots.AxesSubplot at 0x7fcdd5f4d8b0>"
      ]
     },
     "execution_count": 45,
     "metadata": {},
     "output_type": "execute_result"
    },
    {
     "data": {
      "image/png": "[encoded data removed]",
      "text/plain": [
       "<Figure size 432x288 with 1 Axes>"
      ]
     },
     "metadata": {
      "needs_background": "light"
     },
     "output_type": "display_data"
    }
   ],
   "source": [
    "sns.countplot('home_ownership',data=data,hue='default_ind')"
   ]
  },
  {
   "cell_type": "code",
   "execution_count": 46,
   "metadata": {},
   "outputs": [
    {
     "data": {
      "text/plain": [
       "2    429106\n",
       "0    342535\n",
       "1     84136\n",
       "3       189\n",
       "4         3\n",
       "Name: home_ownership, dtype: int64"
      ]
     },
     "execution_count": 46,
     "metadata": {},
     "output_type": "execute_result"
    }
   ],
   "source": [
    "data['home_ownership'] = np.where(data['home_ownership']=='RENT', 0, data['home_ownership'])\n",
    "data['home_ownership'] = np.where(data['home_ownership']=='OWN', 1, data['home_ownership'])\n",
    "data['home_ownership'] = np.where(data['home_ownership']=='MORTGAGE', 2, data['home_ownership'])\n",
    "data['home_ownership'] = np.where(data['home_ownership']=='NONE', 3, data['home_ownership'])\n",
    "data['home_ownership'] = np.where(data['home_ownership']=='OTHER', 3, data['home_ownership'])\n",
    "data['home_ownership'] = np.where(data['home_ownership']=='ANY', 4, data['home_ownership'])\n",
    "\n",
    "data['home_ownership'].value_counts()"
   ]
  },
  {
   "cell_type": "code",
   "execution_count": 47,
   "metadata": {},
   "outputs": [],
   "source": [
    "data['home_ownership']=data['home_ownership'].astype(float)"
   ]
  },
  {
   "cell_type": "code",
   "execution_count": null,
   "metadata": {},
   "outputs": [],
   "source": [
    "# df3=pd.get_dummies(data['home_ownership'], prefix='HOwn',drop_first=True)\n",
    "# data=pd.concat([df3,data],axis=1)\n",
    "# del data['home_ownership']\n",
    "# data.head()"
   ]
  },
  {
   "cell_type": "code",
   "execution_count": 48,
   "metadata": {},
   "outputs": [
    {
     "data": {
      "text/plain": [
       "(855969, 36)"
      ]
     },
     "execution_count": 48,
     "metadata": {},
     "output_type": "execute_result"
    }
   ],
   "source": [
    "data.shape"
   ]
  },
  {
   "cell_type": "markdown",
   "metadata": {},
   "source": [
    "# emp_length"
   ]
  },
  {
   "cell_type": "code",
   "execution_count": 49,
   "metadata": {},
   "outputs": [
    {
     "data": {
      "text/plain": [
       "10+ years    282090\n",
       "2 years       75986\n",
       "< 1 year      67597\n",
       "3 years       67392\n",
       "1 year        54855\n",
       "5 years       53812\n",
       "4 years       50643\n",
       "7 years       43204\n",
       "8 years       42421\n",
       "6 years       41446\n",
       "9 years       33462\n",
       "Name: emp_length, dtype: int64"
      ]
     },
     "execution_count": 49,
     "metadata": {},
     "output_type": "execute_result"
    }
   ],
   "source": [
    "data['emp_length'].value_counts()"
   ]
  },
  {
   "cell_type": "code",
   "execution_count": 50,
   "metadata": {},
   "outputs": [],
   "source": [
    "data['emp_length'] = np.where(data['emp_length']=='< 1 year', '0 year', data['emp_length'])"
   ]
  },
  {
   "cell_type": "code",
   "execution_count": 51,
   "metadata": {},
   "outputs": [
    {
     "data": {
      "text/plain": [
       "<matplotlib.axes._subplots.AxesSubplot at 0x7fcdd5eca5e0>"
      ]
     },
     "execution_count": 51,
     "metadata": {},
     "output_type": "execute_result"
    },
    {
     "data": {
      "image/png": "[encoded data removed]",
      "text/plain": [
       "<Figure size 720x288 with 1 Axes>"
      ]
     },
     "metadata": {
      "needs_background": "light"
     },
     "output_type": "display_data"
    }
   ],
   "source": [
    "fig_dims = (10, 4)\n",
    "fig, ax = plt.subplots(figsize=fig_dims)\n",
    "sns.countplot('emp_length', ax=ax,data=data,hue='default_ind')"
   ]
  },
  {
   "cell_type": "code",
   "execution_count": 52,
   "metadata": {},
   "outputs": [],
   "source": [
    "data['emp_length'] = data['emp_length'].str.extract('(\\d+)').astype(float)\n",
    "data['emp_length'] = data['emp_length'].fillna(data.emp_length.median())"
   ]
  },
  {
   "cell_type": "code",
   "execution_count": 53,
   "metadata": {},
   "outputs": [
    {
     "data": {
      "text/plain": [
       "(855969, 36)"
      ]
     },
     "execution_count": 53,
     "metadata": {},
     "output_type": "execute_result"
    }
   ],
   "source": [
    "data.shape"
   ]
  },
  {
   "cell_type": "markdown",
   "metadata": {},
   "source": [
    "# last_credit_pull_d"
   ]
  },
  {
   "cell_type": "code",
   "execution_count": 54,
   "metadata": {},
   "outputs": [],
   "source": [
    "data['last_credit_pull_d'] = pd.to_datetime(data['last_credit_pull_d'])\n",
    "data['Month'] = data['last_credit_pull_d'].apply(lambda x: x.month)\n",
    "data['Year'] = data['last_credit_pull_d'].apply(lambda x: x.year)\n",
    "data = data.drop(['last_credit_pull_d'], axis = 1)"
   ]
  },
  {
   "cell_type": "code",
   "execution_count": 55,
   "metadata": {},
   "outputs": [
    {
     "name": "stdout",
     "output_type": "stream",
     "text": [
      "Data Shape:  (855969, 37)\n",
      "\n",
      "<class 'pandas.core.frame.DataFrame'>\n",
      "RangeIndex: 855969 entries, 0 to 855968\n",
      "Data columns (total 37 columns):\n",
      " #   Column                   Non-Null Count   Dtype         \n",
      "---  ------                   --------------   -----         \n",
      " 0   VStatus_Not Verified     855969 non-null  uint8         \n",
      " 1   VStatus_Source Verified  855969 non-null  uint8         \n",
      " 2   VStatus_Verified         855969 non-null  uint8         \n",
      " 3   term                     855969 non-null  float64       \n",
      " 4   int_rate                 855969 non-null  float64       \n",
      " 5   grade                    855969 non-null  float64       \n",
      " 6   sub_grade                855969 non-null  object        \n",
      " 7   emp_length               855969 non-null  float64       \n",
      " 8   home_ownership           855969 non-null  float64       \n",
      " 9   annual_inc               855969 non-null  float64       \n",
      " 10  issue_d                  855969 non-null  datetime64[ns]\n",
      " 11  purpose                  855969 non-null  object        \n",
      " 12  addr_state               855969 non-null  object        \n",
      " 13  earliest_cr_line         855969 non-null  object        \n",
      " 14  inq_last_6mths           855969 non-null  float64       \n",
      " 15  open_acc                 855969 non-null  float64       \n",
      " 16  revol_bal                855969 non-null  float64       \n",
      " 17  revol_util               855523 non-null  float64       \n",
      " 18  total_acc                855969 non-null  float64       \n",
      " 19  initial_list_status      855969 non-null  float64       \n",
      " 20  out_prncp                855969 non-null  float64       \n",
      " 21  out_prncp_inv            855969 non-null  float64       \n",
      " 22  total_pymnt              855969 non-null  float64       \n",
      " 23  total_pymnt_inv          855969 non-null  float64       \n",
      " 24  total_rec_prncp          855969 non-null  float64       \n",
      " 25  total_rec_int            855969 non-null  float64       \n",
      " 26  total_rec_late_fee       855969 non-null  float64       \n",
      " 27  recoveries               855969 non-null  float64       \n",
      " 28  collection_recovery_fee  855969 non-null  float64       \n",
      " 29  last_pymnt_d             847107 non-null  object        \n",
      " 30  last_pymnt_amnt          855969 non-null  float64       \n",
      " 31  next_pymnt_d             602998 non-null  object        \n",
      " 32  tot_cur_bal              788656 non-null  float64       \n",
      " 33  total_rev_hi_lim         788656 non-null  float64       \n",
      " 34  default_ind              855969 non-null  int64         \n",
      " 35  Month                    855919 non-null  float64       \n",
      " 36  Year                     855919 non-null  float64       \n",
      "dtypes: datetime64[ns](1), float64(26), int64(1), object(6), uint8(3)\n",
      "memory usage: 224.5+ MB\n"
     ]
    }
   ],
   "source": [
    "print('Data Shape: ', data.shape)\n",
    "print('')\n",
    "data.info()"
   ]
  },
  {
   "cell_type": "code",
   "execution_count": 56,
   "metadata": {},
   "outputs": [
    {
     "data": {
      "text/plain": [
       "VStatus_Not Verified      -0.016924\n",
       "VStatus_Source Verified   -0.032761\n",
       "VStatus_Verified           0.050291\n",
       "term                       0.031378\n",
       "int_rate                   0.155037\n",
       "grade                      0.123656\n",
       "emp_length                -0.013742\n",
       "home_ownership            -0.033838\n",
       "annual_inc                -0.037066\n",
       "inq_last_6mths             0.074407\n",
       "open_acc                  -0.021698\n",
       "revol_bal                 -0.020696\n",
       "revol_util                 0.044497\n",
       "total_acc                 -0.021087\n",
       "initial_list_status       -0.098812\n",
       "out_prncp                 -0.225960\n",
       "out_prncp_inv             -0.225959\n",
       "total_pymnt               -0.039220\n",
       "total_pymnt_inv           -0.040232\n",
       "total_rec_prncp           -0.090336\n",
       "total_rec_int              0.046050\n",
       "total_rec_late_fee         0.140760\n",
       "recoveries                 0.475738\n",
       "collection_recovery_fee    0.330764\n",
       "last_pymnt_amnt           -0.087217\n",
       "tot_cur_bal               -0.036335\n",
       "total_rev_hi_lim          -0.033620\n",
       "default_ind                1.000000\n",
       "Month                      0.176549\n",
       "Year                      -0.222958\n",
       "Name: default_ind, dtype: float64"
      ]
     },
     "execution_count": 56,
     "metadata": {},
     "output_type": "execute_result"
    }
   ],
   "source": [
    "data[data.columns].corr()['default_ind'][:]"
   ]
  },
  {
   "cell_type": "code",
   "execution_count": 57,
   "metadata": {},
   "outputs": [],
   "source": [
    "list_3=[]\n",
    "for i in range(len(data.dtypes)):\n",
    "    if data.dtypes[i]!='object':\n",
    "        list_3.append(data.dtypes.index[i])"
   ]
  },
  {
   "cell_type": "code",
   "execution_count": 58,
   "metadata": {},
   "outputs": [],
   "source": [
    "data=data[list_3]"
   ]
  },
  {
   "cell_type": "code",
   "execution_count": 59,
   "metadata": {},
   "outputs": [
    {
     "data": {
      "text/plain": [
       "VStatus_Not Verified           0\n",
       "VStatus_Source Verified        0\n",
       "VStatus_Verified               0\n",
       "term                           0\n",
       "int_rate                       0\n",
       "grade                          0\n",
       "emp_length                     0\n",
       "home_ownership                 0\n",
       "annual_inc                     0\n",
       "issue_d                        0\n",
       "inq_last_6mths                 0\n",
       "open_acc                       0\n",
       "revol_bal                      0\n",
       "revol_util                   446\n",
       "total_acc                      0\n",
       "initial_list_status            0\n",
       "out_prncp                      0\n",
       "out_prncp_inv                  0\n",
       "total_pymnt                    0\n",
       "total_pymnt_inv                0\n",
       "total_rec_prncp                0\n",
       "total_rec_int                  0\n",
       "total_rec_late_fee             0\n",
       "recoveries                     0\n",
       "collection_recovery_fee        0\n",
       "last_pymnt_amnt                0\n",
       "tot_cur_bal                67313\n",
       "total_rev_hi_lim           67313\n",
       "default_ind                    0\n",
       "Month                         50\n",
       "Year                          50\n",
       "dtype: int64"
      ]
     },
     "execution_count": 59,
     "metadata": {},
     "output_type": "execute_result"
    }
   ],
   "source": [
    "data.isnull().sum()"
   ]
  },
  {
   "cell_type": "code",
   "execution_count": 60,
   "metadata": {},
   "outputs": [],
   "source": [
    "del data['total_rev_hi_lim']"
   ]
  },
  {
   "cell_type": "code",
   "execution_count": 61,
   "metadata": {},
   "outputs": [
    {
     "name": "stdout",
     "output_type": "stream",
     "text": [
      "Shape:  (855969, 29)\n"
     ]
    }
   ],
   "source": [
    "del data['tot_cur_bal']\n",
    "print('Shape: ', data.shape)"
   ]
  },
  {
   "cell_type": "code",
   "execution_count": 62,
   "metadata": {},
   "outputs": [
    {
     "data": {
      "text/plain": [
       "<matplotlib.axes._subplots.AxesSubplot at 0x7fcdd69f4850>"
      ]
     },
     "execution_count": 62,
     "metadata": {},
     "output_type": "execute_result"
    },
    {
     "data": {
      "image/png": "[encoded data removed]",
      "text/plain": [
       "<Figure size 1440x1440 with 2 Axes>"
      ]
     },
     "metadata": {
      "needs_background": "light"
     },
     "output_type": "display_data"
    }
   ],
   "source": [
    "plt.figure(figsize=(20,20))\n",
    "sns.heatmap(data.corr(),annot=False,cmap='magma')"
   ]
  },
  {
   "cell_type": "markdown",
   "metadata": {},
   "source": [
    "## Filling Null Values"
   ]
  },
  {
   "cell_type": "code",
   "execution_count": 63,
   "metadata": {},
   "outputs": [],
   "source": [
    "data['revol_util'].fillna(data['revol_util'].mean(),inplace=True)\n",
    "data['Month'].fillna(data.mode()['Month'][0],inplace=True)\n",
    "data['Year'].fillna(data.mode()['Year'][0],inplace=True)"
   ]
  },
  {
   "cell_type": "code",
   "execution_count": 65,
   "metadata": {},
   "outputs": [
    {
     "data": {
      "text/plain": [
       "VStatus_Not Verified       0\n",
       "VStatus_Source Verified    0\n",
       "VStatus_Verified           0\n",
       "term                       0\n",
       "int_rate                   0\n",
       "grade                      0\n",
       "emp_length                 0\n",
       "home_ownership             0\n",
       "annual_inc                 0\n",
       "issue_d                    0\n",
       "inq_last_6mths             0\n",
       "open_acc                   0\n",
       "revol_bal                  0\n",
       "revol_util                 0\n",
       "total_acc                  0\n",
       "initial_list_status        0\n",
       "out_prncp                  0\n",
       "out_prncp_inv              0\n",
       "total_pymnt                0\n",
       "total_pymnt_inv            0\n",
       "total_rec_prncp            0\n",
       "total_rec_int              0\n",
       "total_rec_late_fee         0\n",
       "recoveries                 0\n",
       "collection_recovery_fee    0\n",
       "last_pymnt_amnt            0\n",
       "default_ind                0\n",
       "Month                      0\n",
       "Year                       0\n",
       "dtype: int64"
      ]
     },
     "execution_count": 65,
     "metadata": {},
     "output_type": "execute_result"
    }
   ],
   "source": [
    "data.isnull().sum()"
   ]
  },
  {
   "cell_type": "code",
   "execution_count": 66,
   "metadata": {},
   "outputs": [],
   "source": [
    "# For Ease Of use setting Target variable at the end\n",
    "\n",
    "data['last']=data['default_ind']\n",
    "del data['default_ind']\n",
    "data['default_ind']=data['last']\n",
    "del data['last']"
   ]
  },
  {
   "cell_type": "code",
   "execution_count": 67,
   "metadata": {},
   "outputs": [],
   "source": [
    "del data['issue_d']"
   ]
  },
  {
   "cell_type": "code",
   "execution_count": 68,
   "metadata": {},
   "outputs": [
    {
     "name": "stdout",
     "output_type": "stream",
     "text": [
      "Final Data Shape:  (855969, 28)\n"
     ]
    }
   ],
   "source": [
    "print('Final Data Shape: ', data.shape)"
   ]
  },
  {
   "cell_type": "code",
   "execution_count": 69,
   "metadata": {},
   "outputs": [
    {
     "name": "stdout",
     "output_type": "stream",
     "text": [
      "Columns:  Index(['VStatus_Not Verified', 'VStatus_Source Verified', 'VStatus_Verified',\n",
      "       'term', 'int_rate', 'grade', 'emp_length', 'home_ownership',\n",
      "       'annual_inc', 'inq_last_6mths', 'open_acc', 'revol_bal', 'revol_util',\n",
      "       'total_acc', 'initial_list_status', 'out_prncp', 'out_prncp_inv',\n",
      "       'total_pymnt', 'total_pymnt_inv', 'total_rec_prncp', 'total_rec_int',\n",
      "       'total_rec_late_fee', 'recoveries', 'collection_recovery_fee',\n",
      "       'last_pymnt_amnt', 'Month', 'Year', 'default_ind'],\n",
      "      dtype='object')\n"
     ]
    },
    {
     "data": {
      "text/html": [
       "<div>\n",
       "<style scoped>\n",
       "    .dataframe tbody tr th:only-of-type {\n",
       "        vertical-align: middle;\n",
       "    }\n",
       "\n",
       "    .dataframe tbody tr th {\n",
       "        vertical-align: top;\n",
       "    }\n",
       "\n",
       "    .dataframe thead th {\n",
       "        text-align: right;\n",
       "    }\n",
       "</style>\n",
       "<table border=\"1\" class=\"dataframe\">\n",
       "  <thead>\n",
       "    <tr style=\"text-align: right;\">\n",
       "      <th></th>\n",
       "      <th>VStatus_Not Verified</th>\n",
       "      <th>VStatus_Source Verified</th>\n",
       "      <th>VStatus_Verified</th>\n",
       "      <th>term</th>\n",
       "      <th>int_rate</th>\n",
       "      <th>grade</th>\n",
       "      <th>emp_length</th>\n",
       "      <th>home_ownership</th>\n",
       "      <th>annual_inc</th>\n",
       "      <th>inq_last_6mths</th>\n",
       "      <th>open_acc</th>\n",
       "      <th>revol_bal</th>\n",
       "      <th>revol_util</th>\n",
       "      <th>total_acc</th>\n",
       "      <th>initial_list_status</th>\n",
       "      <th>out_prncp</th>\n",
       "      <th>out_prncp_inv</th>\n",
       "      <th>total_pymnt</th>\n",
       "      <th>total_pymnt_inv</th>\n",
       "      <th>total_rec_prncp</th>\n",
       "      <th>total_rec_int</th>\n",
       "      <th>total_rec_late_fee</th>\n",
       "      <th>recoveries</th>\n",
       "      <th>collection_recovery_fee</th>\n",
       "      <th>last_pymnt_amnt</th>\n",
       "      <th>Month</th>\n",
       "      <th>Year</th>\n",
       "      <th>default_ind</th>\n",
       "    </tr>\n",
       "  </thead>\n",
       "  <tbody>\n",
       "    <tr>\n",
       "      <th>0</th>\n",
       "      <td>0</td>\n",
       "      <td>0</td>\n",
       "      <td>1</td>\n",
       "      <td>0.0</td>\n",
       "      <td>10.65</td>\n",
       "      <td>1.0</td>\n",
       "      <td>10.0</td>\n",
       "      <td>0.0</td>\n",
       "      <td>24000.0</td>\n",
       "      <td>1.0</td>\n",
       "      <td>3.0</td>\n",
       "      <td>13648.0</td>\n",
       "      <td>83.7</td>\n",
       "      <td>9.0</td>\n",
       "      <td>0.0</td>\n",
       "      <td>0.0</td>\n",
       "      <td>0.0</td>\n",
       "      <td>5861.071414</td>\n",
       "      <td>5831.78</td>\n",
       "      <td>5000.00</td>\n",
       "      <td>861.07</td>\n",
       "      <td>0.00</td>\n",
       "      <td>0.00</td>\n",
       "      <td>0.00</td>\n",
       "      <td>171.62</td>\n",
       "      <td>1.0</td>\n",
       "      <td>2016.0</td>\n",
       "      <td>0</td>\n",
       "    </tr>\n",
       "    <tr>\n",
       "      <th>1</th>\n",
       "      <td>0</td>\n",
       "      <td>1</td>\n",
       "      <td>0</td>\n",
       "      <td>1.0</td>\n",
       "      <td>15.27</td>\n",
       "      <td>2.0</td>\n",
       "      <td>0.0</td>\n",
       "      <td>0.0</td>\n",
       "      <td>30000.0</td>\n",
       "      <td>5.0</td>\n",
       "      <td>3.0</td>\n",
       "      <td>1687.0</td>\n",
       "      <td>9.4</td>\n",
       "      <td>4.0</td>\n",
       "      <td>0.0</td>\n",
       "      <td>0.0</td>\n",
       "      <td>0.0</td>\n",
       "      <td>1008.710000</td>\n",
       "      <td>1008.71</td>\n",
       "      <td>456.46</td>\n",
       "      <td>435.17</td>\n",
       "      <td>0.00</td>\n",
       "      <td>117.08</td>\n",
       "      <td>1.11</td>\n",
       "      <td>119.66</td>\n",
       "      <td>9.0</td>\n",
       "      <td>2013.0</td>\n",
       "      <td>1</td>\n",
       "    </tr>\n",
       "    <tr>\n",
       "      <th>2</th>\n",
       "      <td>1</td>\n",
       "      <td>0</td>\n",
       "      <td>0</td>\n",
       "      <td>0.0</td>\n",
       "      <td>15.96</td>\n",
       "      <td>2.0</td>\n",
       "      <td>10.0</td>\n",
       "      <td>0.0</td>\n",
       "      <td>12252.0</td>\n",
       "      <td>2.0</td>\n",
       "      <td>2.0</td>\n",
       "      <td>2956.0</td>\n",
       "      <td>98.5</td>\n",
       "      <td>10.0</td>\n",
       "      <td>0.0</td>\n",
       "      <td>0.0</td>\n",
       "      <td>0.0</td>\n",
       "      <td>3003.653644</td>\n",
       "      <td>3003.65</td>\n",
       "      <td>2400.00</td>\n",
       "      <td>603.65</td>\n",
       "      <td>0.00</td>\n",
       "      <td>0.00</td>\n",
       "      <td>0.00</td>\n",
       "      <td>649.91</td>\n",
       "      <td>1.0</td>\n",
       "      <td>2016.0</td>\n",
       "      <td>0</td>\n",
       "    </tr>\n",
       "    <tr>\n",
       "      <th>3</th>\n",
       "      <td>0</td>\n",
       "      <td>1</td>\n",
       "      <td>0</td>\n",
       "      <td>0.0</td>\n",
       "      <td>13.49</td>\n",
       "      <td>2.0</td>\n",
       "      <td>10.0</td>\n",
       "      <td>0.0</td>\n",
       "      <td>49200.0</td>\n",
       "      <td>1.0</td>\n",
       "      <td>10.0</td>\n",
       "      <td>5598.0</td>\n",
       "      <td>21.0</td>\n",
       "      <td>37.0</td>\n",
       "      <td>0.0</td>\n",
       "      <td>0.0</td>\n",
       "      <td>0.0</td>\n",
       "      <td>12226.302212</td>\n",
       "      <td>12226.30</td>\n",
       "      <td>10000.00</td>\n",
       "      <td>2209.33</td>\n",
       "      <td>16.97</td>\n",
       "      <td>0.00</td>\n",
       "      <td>0.00</td>\n",
       "      <td>357.48</td>\n",
       "      <td>1.0</td>\n",
       "      <td>2015.0</td>\n",
       "      <td>0</td>\n",
       "    </tr>\n",
       "    <tr>\n",
       "      <th>4</th>\n",
       "      <td>0</td>\n",
       "      <td>1</td>\n",
       "      <td>0</td>\n",
       "      <td>1.0</td>\n",
       "      <td>12.69</td>\n",
       "      <td>1.0</td>\n",
       "      <td>1.0</td>\n",
       "      <td>0.0</td>\n",
       "      <td>80000.0</td>\n",
       "      <td>0.0</td>\n",
       "      <td>15.0</td>\n",
       "      <td>27783.0</td>\n",
       "      <td>53.9</td>\n",
       "      <td>38.0</td>\n",
       "      <td>0.0</td>\n",
       "      <td>766.9</td>\n",
       "      <td>766.9</td>\n",
       "      <td>3242.170000</td>\n",
       "      <td>3242.17</td>\n",
       "      <td>2233.10</td>\n",
       "      <td>1009.07</td>\n",
       "      <td>0.00</td>\n",
       "      <td>0.00</td>\n",
       "      <td>0.00</td>\n",
       "      <td>67.79</td>\n",
       "      <td>1.0</td>\n",
       "      <td>2016.0</td>\n",
       "      <td>0</td>\n",
       "    </tr>\n",
       "  </tbody>\n",
       "</table>\n",
       "</div>"
      ],
      "text/plain": [
       "   VStatus_Not Verified  VStatus_Source Verified  VStatus_Verified  term  \\\n",
       "0                     0                        0                 1   0.0   \n",
       "1                     0                        1                 0   1.0   \n",
       "2                     1                        0                 0   0.0   \n",
       "3                     0                        1                 0   0.0   \n",
       "4                     0                        1                 0   1.0   \n",
       "\n",
       "   int_rate  grade  emp_length  home_ownership  annual_inc  inq_last_6mths  \\\n",
       "0     10.65    1.0        10.0             0.0     24000.0             1.0   \n",
       "1     15.27    2.0         0.0             0.0     30000.0             5.0   \n",
       "2     15.96    2.0        10.0             0.0     12252.0             2.0   \n",
       "3     13.49    2.0        10.0             0.0     49200.0             1.0   \n",
       "4     12.69    1.0         1.0             0.0     80000.0             0.0   \n",
       "\n",
       "   open_acc  revol_bal  revol_util  total_acc  initial_list_status  out_prncp  \\\n",
       "0       3.0    13648.0        83.7        9.0                  0.0        0.0   \n",
       "1       3.0     1687.0         9.4        4.0                  0.0        0.0   \n",
       "2       2.0     2956.0        98.5       10.0                  0.0        0.0   \n",
       "3      10.0     5598.0        21.0       37.0                  0.0        0.0   \n",
       "4      15.0    27783.0        53.9       38.0                  0.0      766.9   \n",
       "\n",
       "   out_prncp_inv   total_pymnt  total_pymnt_inv  total_rec_prncp  \\\n",
       "0            0.0   5861.071414          5831.78          5000.00   \n",
       "1            0.0   1008.710000          1008.71           456.46   \n",
       "2            0.0   3003.653644          3003.65          2400.00   \n",
       "3            0.0  12226.302212         12226.30         10000.00   \n",
       "4          766.9   3242.170000          3242.17          2233.10   \n",
       "\n",
       "   total_rec_int  total_rec_late_fee  recoveries  collection_recovery_fee  \\\n",
       "0         861.07                0.00        0.00                     0.00   \n",
       "1         435.17                0.00      117.08                     1.11   \n",
       "2         603.65                0.00        0.00                     0.00   \n",
       "3        2209.33               16.97        0.00                     0.00   \n",
       "4        1009.07                0.00        0.00                     0.00   \n",
       "\n",
       "   last_pymnt_amnt  Month    Year  default_ind  \n",
       "0           171.62    1.0  2016.0            0  \n",
       "1           119.66    9.0  2013.0            1  \n",
       "2           649.91    1.0  2016.0            0  \n",
       "3           357.48    1.0  2015.0            0  \n",
       "4            67.79    1.0  2016.0            0  "
      ]
     },
     "execution_count": 69,
     "metadata": {},
     "output_type": "execute_result"
    }
   ],
   "source": [
    "print('Columns: ', data.columns)\n",
    "data.head()"
   ]
  },
  {
   "cell_type": "code",
   "execution_count": 70,
   "metadata": {},
   "outputs": [
    {
     "name": "stdout",
     "output_type": "stream",
     "text": [
      "<class 'pandas.core.frame.DataFrame'>\n",
      "RangeIndex: 855969 entries, 0 to 855968\n",
      "Data columns (total 28 columns):\n",
      " #   Column                   Non-Null Count   Dtype  \n",
      "---  ------                   --------------   -----  \n",
      " 0   VStatus_Not Verified     855969 non-null  uint8  \n",
      " 1   VStatus_Source Verified  855969 non-null  uint8  \n",
      " 2   VStatus_Verified         855969 non-null  uint8  \n",
      " 3   term                     855969 non-null  float64\n",
      " 4   int_rate                 855969 non-null  float64\n",
      " 5   grade                    855969 non-null  float64\n",
      " 6   emp_length               855969 non-null  float64\n",
      " 7   home_ownership           855969 non-null  float64\n",
      " 8   annual_inc               855969 non-null  float64\n",
      " 9   inq_last_6mths           855969 non-null  float64\n",
      " 10  open_acc                 855969 non-null  float64\n",
      " 11  revol_bal                855969 non-null  float64\n",
      " 12  revol_util               855969 non-null  float64\n",
      " 13  total_acc                855969 non-null  float64\n",
      " 14  initial_list_status      855969 non-null  float64\n",
      " 15  out_prncp                855969 non-null  float64\n",
      " 16  out_prncp_inv            855969 non-null  float64\n",
      " 17  total_pymnt              855969 non-null  float64\n",
      " 18  total_pymnt_inv          855969 non-null  float64\n",
      " 19  total_rec_prncp          855969 non-null  float64\n",
      " 20  total_rec_int            855969 non-null  float64\n",
      " 21  total_rec_late_fee       855969 non-null  float64\n",
      " 22  recoveries               855969 non-null  float64\n",
      " 23  collection_recovery_fee  855969 non-null  float64\n",
      " 24  last_pymnt_amnt          855969 non-null  float64\n",
      " 25  Month                    855969 non-null  float64\n",
      " 26  Year                     855969 non-null  float64\n",
      " 27  default_ind              855969 non-null  int64  \n",
      "dtypes: float64(24), int64(1), uint8(3)\n",
      "memory usage: 165.7 MB\n"
     ]
    }
   ],
   "source": [
    "data.info()"
   ]
  },
  {
   "cell_type": "markdown",
   "metadata": {},
   "source": [
    "## Int_rate"
   ]
  },
  {
   "cell_type": "code",
   "execution_count": 73,
   "metadata": {},
   "outputs": [
    {
     "data": {
      "text/plain": [
       "<matplotlib.axes._subplots.AxesSubplot at 0x7fcdd5d34af0>"
      ]
     },
     "execution_count": 73,
     "metadata": {},
     "output_type": "execute_result"
    },
    {
     "data": {
      "image/png": "[encoded data removed]",
      "text/plain": [
       "<Figure size 432x288 with 1 Axes>"
      ]
     },
     "metadata": {
      "needs_background": "light"
     },
     "output_type": "display_data"
    }
   ],
   "source": [
    "sns.boxplot('grade','int_rate',data=data)"
   ]
  },
  {
   "cell_type": "code",
   "execution_count": 74,
   "metadata": {},
   "outputs": [
    {
     "data": {
      "text/plain": [
       "<matplotlib.axes._subplots.AxesSubplot at 0x7fcdd5c8a460>"
      ]
     },
     "execution_count": 74,
     "metadata": {},
     "output_type": "execute_result"
    },
    {
     "data": {
      "image/png": "[encoded data removed]",
      "text/plain": [
       "<Figure size 432x288 with 1 Axes>"
      ]
     },
     "metadata": {
      "needs_background": "light"
     },
     "output_type": "display_data"
    }
   ],
   "source": [
    "sns.violinplot('default_ind','int_rate',data=data,bw='scott',inner='quartile')"
   ]
  },
  {
   "cell_type": "markdown",
   "metadata": {},
   "source": [
    "## annual_inc"
   ]
  },
  {
   "cell_type": "code",
   "execution_count": 75,
   "metadata": {},
   "outputs": [
    {
     "data": {
      "text/plain": [
       "<matplotlib.axes._subplots.AxesSubplot at 0x7fcdd5bedd00>"
      ]
     },
     "execution_count": 75,
     "metadata": {},
     "output_type": "execute_result"
    },
    {
     "data": {
      "image/png": "[encoded data removed]",
      "text/plain": [
       "<Figure size 432x288 with 1 Axes>"
      ]
     },
     "metadata": {
      "needs_background": "light"
     },
     "output_type": "display_data"
    }
   ],
   "source": [
    "sns.stripplot('default_ind','annual_inc',data=data,jitter=True)"
   ]
  },
  {
   "cell_type": "markdown",
   "metadata": {},
   "source": [
    "## inq_last_6mths"
   ]
  },
  {
   "cell_type": "code",
   "execution_count": 76,
   "metadata": {},
   "outputs": [
    {
     "data": {
      "text/plain": [
       "<matplotlib.axes._subplots.AxesSubplot at 0x7fcdd5bbd460>"
      ]
     },
     "execution_count": 76,
     "metadata": {},
     "output_type": "execute_result"
    },
    {
     "data": {
      "image/png": "[encoded data removed]",
      "text/plain": [
       "<Figure size 432x288 with 1 Axes>"
      ]
     },
     "metadata": {
      "needs_background": "light"
     },
     "output_type": "display_data"
    }
   ],
   "source": [
    "sns.boxplot('default_ind','inq_last_6mths',data=data)"
   ]
  },
  {
   "cell_type": "markdown",
   "metadata": {},
   "source": [
    "## out_prncp"
   ]
  },
  {
   "cell_type": "code",
   "execution_count": 77,
   "metadata": {},
   "outputs": [
    {
     "data": {
      "text/plain": [
       "<matplotlib.axes._subplots.AxesSubplot at 0x7fcdd5b9e640>"
      ]
     },
     "execution_count": 77,
     "metadata": {},
     "output_type": "execute_result"
    },
    {
     "data": {
      "image/png": "[encoded data removed]",
      "text/plain": [
       "<Figure size 432x288 with 1 Axes>"
      ]
     },
     "metadata": {
      "needs_background": "light"
     },
     "output_type": "display_data"
    }
   ],
   "source": [
    "sns.boxplot('default_ind','out_prncp',data=data)"
   ]
  },
  {
   "cell_type": "markdown",
   "metadata": {},
   "source": [
    "## total_pymnt"
   ]
  },
  {
   "cell_type": "code",
   "execution_count": 78,
   "metadata": {},
   "outputs": [
    {
     "data": {
      "text/plain": [
       "<matplotlib.axes._subplots.AxesSubplot at 0x7fcdd5b15820>"
      ]
     },
     "execution_count": 78,
     "metadata": {},
     "output_type": "execute_result"
    },
    {
     "data": {
      "image/png": "[encoded data removed]",
      "text/plain": [
       "<Figure size 432x288 with 1 Axes>"
      ]
     },
     "metadata": {
      "needs_background": "light"
     },
     "output_type": "display_data"
    }
   ],
   "source": [
    "sns.boxplot('default_ind','total_pymnt',data=data)"
   ]
  },
  {
   "cell_type": "markdown",
   "metadata": {},
   "source": [
    "## total_rec_prncp"
   ]
  },
  {
   "cell_type": "code",
   "execution_count": 79,
   "metadata": {},
   "outputs": [
    {
     "data": {
      "text/plain": [
       "<matplotlib.axes._subplots.AxesSubplot at 0x7fcdd5a82d90>"
      ]
     },
     "execution_count": 79,
     "metadata": {},
     "output_type": "execute_result"
    },
    {
     "data": {
      "image/png": "[encoded data removed]",
      "text/plain": [
       "<Figure size 432x288 with 1 Axes>"
      ]
     },
     "metadata": {
      "needs_background": "light"
     },
     "output_type": "display_data"
    }
   ],
   "source": [
    "sns.stripplot('default_ind','total_rec_prncp',data=data,jitter=True)"
   ]
  },
  {
   "cell_type": "markdown",
   "metadata": {},
   "source": [
    "## total_rec_int"
   ]
  },
  {
   "cell_type": "code",
   "execution_count": 80,
   "metadata": {},
   "outputs": [
    {
     "data": {
      "text/plain": [
       "<matplotlib.axes._subplots.AxesSubplot at 0x7fcdd5a53c40>"
      ]
     },
     "execution_count": 80,
     "metadata": {},
     "output_type": "execute_result"
    },
    {
     "data": {
      "image/png": "[encoded data removed]",
      "text/plain": [
       "<Figure size 432x288 with 1 Axes>"
      ]
     },
     "metadata": {
      "needs_background": "light"
     },
     "output_type": "display_data"
    }
   ],
   "source": [
    "sns.violinplot('default_ind','total_rec_int',data=data,inner='quartile')"
   ]
  },
  {
   "cell_type": "markdown",
   "metadata": {},
   "source": [
    "## recoveries"
   ]
  },
  {
   "cell_type": "code",
   "execution_count": 81,
   "metadata": {},
   "outputs": [
    {
     "data": {
      "text/plain": [
       "<matplotlib.axes._subplots.AxesSubplot at 0x7fcdd061ac70>"
      ]
     },
     "execution_count": 81,
     "metadata": {},
     "output_type": "execute_result"
    },
    {
     "data": {
      "image/png": "[encoded data removed]",
      "text/plain": [
       "<Figure size 432x288 with 1 Axes>"
      ]
     },
     "metadata": {
      "needs_background": "light"
     },
     "output_type": "display_data"
    }
   ],
   "source": [
    "sns.boxplot('default_ind','recoveries',data=data)"
   ]
  },
  {
   "cell_type": "code",
   "execution_count": 82,
   "metadata": {},
   "outputs": [
    {
     "data": {
      "text/plain": [
       "<matplotlib.axes._subplots.AxesSubplot at 0x7fcdd0607160>"
      ]
     },
     "execution_count": 82,
     "metadata": {},
     "output_type": "execute_result"
    },
    {
     "data": {
      "image/png": "[encoded data removed]",
      "text/plain": [
       "<Figure size 432x288 with 1 Axes>"
      ]
     },
     "metadata": {
      "needs_background": "light"
     },
     "output_type": "display_data"
    }
   ],
   "source": [
    "sns.stripplot('default_ind','recoveries',data=data,jitter=True)"
   ]
  },
  {
   "cell_type": "markdown",
   "metadata": {},
   "source": [
    "## collection_recovery_fee"
   ]
  },
  {
   "cell_type": "code",
   "execution_count": 83,
   "metadata": {},
   "outputs": [
    {
     "data": {
      "text/plain": [
       "<matplotlib.axes._subplots.AxesSubplot at 0x7fcdd05d48b0>"
      ]
     },
     "execution_count": 83,
     "metadata": {},
     "output_type": "execute_result"
    },
    {
     "data": {
      "image/png": "[encoded data removed]",
      "text/plain": [
       "<Figure size 432x288 with 1 Axes>"
      ]
     },
     "metadata": {
      "needs_background": "light"
     },
     "output_type": "display_data"
    }
   ],
   "source": [
    "sns.stripplot('default_ind','collection_recovery_fee',data=data,jitter=True)"
   ]
  },
  {
   "cell_type": "markdown",
   "metadata": {},
   "source": [
    "## last_pymnt_amnt"
   ]
  },
  {
   "cell_type": "code",
   "execution_count": 84,
   "metadata": {},
   "outputs": [
    {
     "data": {
      "text/plain": [
       "<matplotlib.axes._subplots.AxesSubplot at 0x7fcdd0520dc0>"
      ]
     },
     "execution_count": 84,
     "metadata": {},
     "output_type": "execute_result"
    },
    {
     "data": {
      "image/png": "[encoded data removed]",
      "text/plain": [
       "<Figure size 432x288 with 1 Axes>"
      ]
     },
     "metadata": {
      "needs_background": "light"
     },
     "output_type": "display_data"
    }
   ],
   "source": [
    "sns.stripplot('default_ind','last_pymnt_amnt',data=data,jitter=True)"
   ]
  },
  {
   "cell_type": "code",
   "execution_count": 85,
   "metadata": {},
   "outputs": [
    {
     "data": {
      "text/html": [
       "<div>\n",
       "<style scoped>\n",
       "    .dataframe tbody tr th:only-of-type {\n",
       "        vertical-align: middle;\n",
       "    }\n",
       "\n",
       "    .dataframe tbody tr th {\n",
       "        vertical-align: top;\n",
       "    }\n",
       "\n",
       "    .dataframe thead th {\n",
       "        text-align: right;\n",
       "    }\n",
       "</style>\n",
       "<table border=\"1\" class=\"dataframe\">\n",
       "  <thead>\n",
       "    <tr style=\"text-align: right;\">\n",
       "      <th></th>\n",
       "      <th>VStatus_Not Verified</th>\n",
       "      <th>VStatus_Source Verified</th>\n",
       "      <th>VStatus_Verified</th>\n",
       "      <th>term</th>\n",
       "      <th>int_rate</th>\n",
       "      <th>grade</th>\n",
       "      <th>emp_length</th>\n",
       "      <th>home_ownership</th>\n",
       "      <th>annual_inc</th>\n",
       "      <th>inq_last_6mths</th>\n",
       "      <th>open_acc</th>\n",
       "      <th>revol_bal</th>\n",
       "      <th>revol_util</th>\n",
       "      <th>total_acc</th>\n",
       "      <th>initial_list_status</th>\n",
       "      <th>out_prncp</th>\n",
       "      <th>out_prncp_inv</th>\n",
       "      <th>total_pymnt</th>\n",
       "      <th>total_pymnt_inv</th>\n",
       "      <th>total_rec_prncp</th>\n",
       "      <th>total_rec_int</th>\n",
       "      <th>total_rec_late_fee</th>\n",
       "      <th>recoveries</th>\n",
       "      <th>collection_recovery_fee</th>\n",
       "      <th>last_pymnt_amnt</th>\n",
       "      <th>Month</th>\n",
       "      <th>Year</th>\n",
       "      <th>default_ind</th>\n",
       "    </tr>\n",
       "  </thead>\n",
       "  <tbody>\n",
       "    <tr>\n",
       "      <th>0</th>\n",
       "      <td>0</td>\n",
       "      <td>0</td>\n",
       "      <td>1</td>\n",
       "      <td>0.0</td>\n",
       "      <td>10.65</td>\n",
       "      <td>1.0</td>\n",
       "      <td>10.0</td>\n",
       "      <td>0.0</td>\n",
       "      <td>24000.0</td>\n",
       "      <td>1.0</td>\n",
       "      <td>3.0</td>\n",
       "      <td>13648.0</td>\n",
       "      <td>83.7</td>\n",
       "      <td>9.0</td>\n",
       "      <td>0.0</td>\n",
       "      <td>0.0</td>\n",
       "      <td>0.0</td>\n",
       "      <td>5861.071414</td>\n",
       "      <td>5831.78</td>\n",
       "      <td>5000.00</td>\n",
       "      <td>861.07</td>\n",
       "      <td>0.00</td>\n",
       "      <td>0.00</td>\n",
       "      <td>0.00</td>\n",
       "      <td>171.62</td>\n",
       "      <td>1.0</td>\n",
       "      <td>2016.0</td>\n",
       "      <td>0</td>\n",
       "    </tr>\n",
       "    <tr>\n",
       "      <th>1</th>\n",
       "      <td>0</td>\n",
       "      <td>1</td>\n",
       "      <td>0</td>\n",
       "      <td>1.0</td>\n",
       "      <td>15.27</td>\n",
       "      <td>2.0</td>\n",
       "      <td>0.0</td>\n",
       "      <td>0.0</td>\n",
       "      <td>30000.0</td>\n",
       "      <td>5.0</td>\n",
       "      <td>3.0</td>\n",
       "      <td>1687.0</td>\n",
       "      <td>9.4</td>\n",
       "      <td>4.0</td>\n",
       "      <td>0.0</td>\n",
       "      <td>0.0</td>\n",
       "      <td>0.0</td>\n",
       "      <td>1008.710000</td>\n",
       "      <td>1008.71</td>\n",
       "      <td>456.46</td>\n",
       "      <td>435.17</td>\n",
       "      <td>0.00</td>\n",
       "      <td>117.08</td>\n",
       "      <td>1.11</td>\n",
       "      <td>119.66</td>\n",
       "      <td>9.0</td>\n",
       "      <td>2013.0</td>\n",
       "      <td>1</td>\n",
       "    </tr>\n",
       "    <tr>\n",
       "      <th>2</th>\n",
       "      <td>1</td>\n",
       "      <td>0</td>\n",
       "      <td>0</td>\n",
       "      <td>0.0</td>\n",
       "      <td>15.96</td>\n",
       "      <td>2.0</td>\n",
       "      <td>10.0</td>\n",
       "      <td>0.0</td>\n",
       "      <td>12252.0</td>\n",
       "      <td>2.0</td>\n",
       "      <td>2.0</td>\n",
       "      <td>2956.0</td>\n",
       "      <td>98.5</td>\n",
       "      <td>10.0</td>\n",
       "      <td>0.0</td>\n",
       "      <td>0.0</td>\n",
       "      <td>0.0</td>\n",
       "      <td>3003.653644</td>\n",
       "      <td>3003.65</td>\n",
       "      <td>2400.00</td>\n",
       "      <td>603.65</td>\n",
       "      <td>0.00</td>\n",
       "      <td>0.00</td>\n",
       "      <td>0.00</td>\n",
       "      <td>649.91</td>\n",
       "      <td>1.0</td>\n",
       "      <td>2016.0</td>\n",
       "      <td>0</td>\n",
       "    </tr>\n",
       "    <tr>\n",
       "      <th>3</th>\n",
       "      <td>0</td>\n",
       "      <td>1</td>\n",
       "      <td>0</td>\n",
       "      <td>0.0</td>\n",
       "      <td>13.49</td>\n",
       "      <td>2.0</td>\n",
       "      <td>10.0</td>\n",
       "      <td>0.0</td>\n",
       "      <td>49200.0</td>\n",
       "      <td>1.0</td>\n",
       "      <td>10.0</td>\n",
       "      <td>5598.0</td>\n",
       "      <td>21.0</td>\n",
       "      <td>37.0</td>\n",
       "      <td>0.0</td>\n",
       "      <td>0.0</td>\n",
       "      <td>0.0</td>\n",
       "      <td>12226.302212</td>\n",
       "      <td>12226.30</td>\n",
       "      <td>10000.00</td>\n",
       "      <td>2209.33</td>\n",
       "      <td>16.97</td>\n",
       "      <td>0.00</td>\n",
       "      <td>0.00</td>\n",
       "      <td>357.48</td>\n",
       "      <td>1.0</td>\n",
       "      <td>2015.0</td>\n",
       "      <td>0</td>\n",
       "    </tr>\n",
       "    <tr>\n",
       "      <th>4</th>\n",
       "      <td>0</td>\n",
       "      <td>1</td>\n",
       "      <td>0</td>\n",
       "      <td>1.0</td>\n",
       "      <td>12.69</td>\n",
       "      <td>1.0</td>\n",
       "      <td>1.0</td>\n",
       "      <td>0.0</td>\n",
       "      <td>80000.0</td>\n",
       "      <td>0.0</td>\n",
       "      <td>15.0</td>\n",
       "      <td>27783.0</td>\n",
       "      <td>53.9</td>\n",
       "      <td>38.0</td>\n",
       "      <td>0.0</td>\n",
       "      <td>766.9</td>\n",
       "      <td>766.9</td>\n",
       "      <td>3242.170000</td>\n",
       "      <td>3242.17</td>\n",
       "      <td>2233.10</td>\n",
       "      <td>1009.07</td>\n",
       "      <td>0.00</td>\n",
       "      <td>0.00</td>\n",
       "      <td>0.00</td>\n",
       "      <td>67.79</td>\n",
       "      <td>1.0</td>\n",
       "      <td>2016.0</td>\n",
       "      <td>0</td>\n",
       "    </tr>\n",
       "  </tbody>\n",
       "</table>\n",
       "</div>"
      ],
      "text/plain": [
       "   VStatus_Not Verified  VStatus_Source Verified  VStatus_Verified  term  \\\n",
       "0                     0                        0                 1   0.0   \n",
       "1                     0                        1                 0   1.0   \n",
       "2                     1                        0                 0   0.0   \n",
       "3                     0                        1                 0   0.0   \n",
       "4                     0                        1                 0   1.0   \n",
       "\n",
       "   int_rate  grade  emp_length  home_ownership  annual_inc  inq_last_6mths  \\\n",
       "0     10.65    1.0        10.0             0.0     24000.0             1.0   \n",
       "1     15.27    2.0         0.0             0.0     30000.0             5.0   \n",
       "2     15.96    2.0        10.0             0.0     12252.0             2.0   \n",
       "3     13.49    2.0        10.0             0.0     49200.0             1.0   \n",
       "4     12.69    1.0         1.0             0.0     80000.0             0.0   \n",
       "\n",
       "   open_acc  revol_bal  revol_util  total_acc  initial_list_status  out_prncp  \\\n",
       "0       3.0    13648.0        83.7        9.0                  0.0        0.0   \n",
       "1       3.0     1687.0         9.4        4.0                  0.0        0.0   \n",
       "2       2.0     2956.0        98.5       10.0                  0.0        0.0   \n",
       "3      10.0     5598.0        21.0       37.0                  0.0        0.0   \n",
       "4      15.0    27783.0        53.9       38.0                  0.0      766.9   \n",
       "\n",
       "   out_prncp_inv   total_pymnt  total_pymnt_inv  total_rec_prncp  \\\n",
       "0            0.0   5861.071414          5831.78          5000.00   \n",
       "1            0.0   1008.710000          1008.71           456.46   \n",
       "2            0.0   3003.653644          3003.65          2400.00   \n",
       "3            0.0  12226.302212         12226.30         10000.00   \n",
       "4          766.9   3242.170000          3242.17          2233.10   \n",
       "\n",
       "   total_rec_int  total_rec_late_fee  recoveries  collection_recovery_fee  \\\n",
       "0         861.07                0.00        0.00                     0.00   \n",
       "1         435.17                0.00      117.08                     1.11   \n",
       "2         603.65                0.00        0.00                     0.00   \n",
       "3        2209.33               16.97        0.00                     0.00   \n",
       "4        1009.07                0.00        0.00                     0.00   \n",
       "\n",
       "   last_pymnt_amnt  Month    Year  default_ind  \n",
       "0           171.62    1.0  2016.0            0  \n",
       "1           119.66    9.0  2013.0            1  \n",
       "2           649.91    1.0  2016.0            0  \n",
       "3           357.48    1.0  2015.0            0  \n",
       "4            67.79    1.0  2016.0            0  "
      ]
     },
     "execution_count": 85,
     "metadata": {},
     "output_type": "execute_result"
    }
   ],
   "source": [
    "data.head()"
   ]
  },
  {
   "cell_type": "markdown",
   "metadata": {},
   "source": [
    "# Model Building"
   ]
  },
  {
   "cell_type": "code",
   "execution_count": 72,
   "metadata": {},
   "outputs": [],
   "source": [
    "X=data.iloc[:,:-1].values\n",
    "y=data.iloc[:,-1].values"
   ]
  },
  {
   "cell_type": "code",
   "execution_count": 86,
   "metadata": {},
   "outputs": [],
   "source": [
    "from imblearn.under_sampling import NearMiss\n",
    "from sklearn.model_selection import train_test_split\n",
    "# from sklearn.utils import class_weight\n",
    "# import xgboost\n",
    "# from xgboost import XGBClassifier\n",
    "# from sklearn.linear_model import LogisticRegression\n",
    "from sklearn.ensemble import RandomForestClassifier\n",
    "from sklearn.metrics import confusion_matrix, classification_report,roc_auc_score, roc_curve\n",
    "from sklearn.model_selection import cross_val_score\n",
    "from sklearn.metrics import roc_curve\n",
    "\n",
    "import itertools"
   ]
  },
  {
   "cell_type": "code",
   "execution_count": 87,
   "metadata": {},
   "outputs": [],
   "source": [
    "us=NearMiss()\n",
    "X_res,y_res=us.fit_sample(X,y)"
   ]
  },
  {
   "cell_type": "code",
   "execution_count": 88,
   "metadata": {},
   "outputs": [],
   "source": [
    "X_train,X_test,y_train,y_test=train_test_split(X_res,y_res,test_size=0.25,random_state=0)"
   ]
  },
  {
   "cell_type": "code",
   "execution_count": 89,
   "metadata": {},
   "outputs": [],
   "source": [
    "rc=RandomForestClassifier(n_estimators=10, criterion='entropy')"
   ]
  },
  {
   "cell_type": "code",
   "execution_count": 90,
   "metadata": {},
   "outputs": [],
   "source": [
    "def plot_confusion_matrix(y_true, y_pred, classes,\n",
    "                          normalize=False, cf_report=False,\n",
    "                          title='Confusion matrix', ax=None, cmap=plt.cm.Blues, cbar=False):\n",
    "\n",
    "    cm = confusion_matrix(y_true, y_pred)\n",
    "    if normalize:\n",
    "        cm = cm.astype('float') / cm.sum(axis=1)[:, np.newaxis]\n",
    "        \n",
    "    if cf_report:\n",
    "        print(classification_report(y_true,y_pred))\n",
    "    \n",
    "    fig, ax = (plt.gcf(), ax) if ax is not None else plt.subplots(1,1)\n",
    "    \n",
    "    im = ax.imshow(cm, interpolation='nearest', cmap=cmap)\n",
    "    ax.set_title(title)\n",
    "    \n",
    "    if cbar:\n",
    "        fig.colorbar(im, ax=ax, fraction=0.046, pad=0.04) # \"Magic\" numbers (https://stackoverflow.com/a/26720422/10939610)\n",
    "    \n",
    "    tick_marks = np.arange(len(classes))\n",
    "    ax.set_xticks(tick_marks)\n",
    "    ax.set_xticklabels(classes, rotation=45)\n",
    "    ax.set_yticks(tick_marks)\n",
    "    ax.set_yticklabels(classes)\n",
    "\n",
    "    fmt = '.2f' if normalize else 'd'\n",
    "    thresh = cm.max() / 2.\n",
    "    for i, j in itertools.product(range(cm.shape[0]), range(cm.shape[1])):\n",
    "        ax.text(j, i, format(cm[i, j], fmt),\n",
    "                 horizontalalignment=\"center\",\n",
    "                 color=\"white\" if cm[i, j] > thresh else \"black\")\n",
    "\n",
    "    fig.tight_layout()\n",
    "    ax.set_ylabel('True label')\n",
    "    ax.set_xlabel('Predicted label')"
   ]
  },
  {
   "cell_type": "code",
   "execution_count": 91,
   "metadata": {},
   "outputs": [],
   "source": [
    "def plot_roc(y_true, y_pred, ax=None):\n",
    "    \"\"\"Plot ROC curve\"\"\" \n",
    "    false_positive_rate, true_positive_rate, threshold = roc_curve(y_true, y_pred)\n",
    "    roc_score = roc_auc_score(y_true,y_pred)\n",
    "    \n",
    "    fig, ax = (plt.gcf(), ax) if ax is not None else plt.subplots(1,1)\n",
    "\n",
    "    ax.set_title(\"Receiver Operating Characteristic\")\n",
    "    ax.plot(false_positive_rate, true_positive_rate)\n",
    "    ax.plot([0, 1], ls=\"--\")\n",
    "    ax.plot([0, 0], [1, 0] , c=\".7\"), plt.plot([1, 1] , c=\".7\")\n",
    "    ax.annotate('ROC: {:.5f}'.format(roc_score), [0.75,0.05])\n",
    "    ax.set_ylabel(\"True Positive Rate\")\n",
    "    ax.set_xlabel(\"False Positive Rate\")\n",
    "    fig.tight_layout()\n",
    "    return roc_score"
   ]
  },
  {
   "cell_type": "code",
   "execution_count": 92,
   "metadata": {},
   "outputs": [],
   "source": [
    "def plot_cmroc(y_true, y_pred, classes=[0,1], normalize=True, cf_report=False):\n",
    "    \n",
    "    \"\"\"Function to plot confusion matrix and ROC curve \"\"\"\n",
    "    \n",
    "    fig,axes = plt.subplots(1,2, figsize=(9,4))\n",
    "    plot_confusion_matrix(y_true, y_pred, classes=classes, normalize=normalize, cf_report=cf_report, ax=axes[0])\n",
    "    roc_score = plot_roc(y_true, y_pred, ax=axes[1])\n",
    "    fig.tight_layout()\n",
    "    plt.show()\n",
    "    return roc_score"
   ]
  },
  {
   "cell_type": "code",
   "execution_count": 93,
   "metadata": {},
   "outputs": [],
   "source": [
    "y_pred=rc.fit(X_train,y_train).predict(X_test)\n",
    "y_pred_prob=rc.predict_proba(X_test)"
   ]
  },
  {
   "cell_type": "code",
   "execution_count": 94,
   "metadata": {},
   "outputs": [
    {
     "name": "stdout",
     "output_type": "stream",
     "text": [
      "              precision    recall  f1-score   support\n",
      "\n",
      "           0       0.97      0.99      0.98     11607\n",
      "           1       0.99      0.97      0.98     11627\n",
      "\n",
      "    accuracy                           0.98     23234\n",
      "   macro avg       0.98      0.98      0.98     23234\n",
      "weighted avg       0.98      0.98      0.98     23234\n",
      "\n"
     ]
    },
    {
     "data": {
      "image/png": "[encoded data removed]",
      "text/plain": [
       "<Figure size 648x288 with 2 Axes>"
      ]
     },
     "metadata": {
      "needs_background": "light"
     },
     "output_type": "display_data"
    }
   ],
   "source": [
    "rc_underSample = plot_cmroc(y_test, y_pred, cf_report=True)"
   ]
  },
  {
   "cell_type": "code",
   "execution_count": 95,
   "metadata": {},
   "outputs": [
    {
     "name": "stdout",
     "output_type": "stream",
     "text": [
      "[[11523    84]\n",
      " [  406 11221]]\n"
     ]
    }
   ],
   "source": [
    "print(confusion_matrix(y_test,y_pred))"
   ]
  },
  {
   "cell_type": "code",
   "execution_count": 96,
   "metadata": {},
   "outputs": [
    {
     "data": {
      "text/plain": [
       "0.9806599713055955"
      ]
     },
     "execution_count": 96,
     "metadata": {},
     "output_type": "execute_result"
    }
   ],
   "source": [
    "acc=cross_val_score(estimator=rc,X=X_train,y=y_train,cv=10)\n",
    "acc.mean()"
   ]
  },
  {
   "cell_type": "code",
   "execution_count": 122,
   "metadata": {},
   "outputs": [
    {
     "data": {
      "text/plain": [
       "<BarContainer object of 27 artists>"
      ]
     },
     "execution_count": 122,
     "metadata": {},
     "output_type": "execute_result"
    },
    {
     "data": {
      "image/png": "[encoded data removed]",
      "text/plain": [
       "<Figure size 864x576 with 1 Axes>"
      ]
     },
     "metadata": {
      "needs_background": "light"
     },
     "output_type": "display_data"
    }
   ],
   "source": [
    "plt.figure(figsize=(12,8))\n",
    "plt.barh(data.iloc[:,:-1].columns, rc.feature_importances_)"
   ]
  },
  {
   "cell_type": "code",
   "execution_count": 121,
   "metadata": {},
   "outputs": [
    {
     "data": {
      "text/plain": [
       "Text(0.5, 0, 'Random Forest Feature Importance')"
      ]
     },
     "execution_count": 121,
     "metadata": {},
     "output_type": "execute_result"
    },
    {
     "data": {
      "image/png": "[encoded data removed]",
      "text/plain": [
       "<Figure size 864x576 with 1 Axes>"
      ]
     },
     "metadata": {
      "needs_background": "light"
     },
     "output_type": "display_data"
    }
   ],
   "source": [
    "sorted_idx = rc.feature_importances_.argsort()\n",
    "plt.figure(figsize=(12,8))\n",
    "plt.barh(data.iloc[:,:-1].columns[sorted_idx], rc.feature_importances_[sorted_idx])\n",
    "plt.xlabel(\"Random Forest Feature Importance\")"
   ]
  },
  {
   "cell_type": "markdown",
   "metadata": {},
   "source": [
    "# Conclusions\n",
    "\n",
    "- Fields like Zip code & policy code barely are of any significance so such fields can be ignored\n",
    "from our study.\n",
    "- Based on annual income & purpose, lending organization can decide how much loan to finance.\n",
    "For e.g.- if a customer has a higher salary or source of income is fixed, he can be financed loan.\n",
    "- Columns depicting delinquency can be kept in binarized format by bank. So if someone has no\n",
    "default history it can be taken as zero and if someone has defaulted in 1 or more than 1 month\n",
    "can be simply labelled as 1 i.e. delinquency.\n",
    "- A higher interest rate can be charged from those who have defaulted as a form of penalty, so\n",
    "they don’t default from next time.\n",
    "- Successful payers should be given priority in terms loan grant.\n",
    "- Finally, Random Forest model gave a list of important features for this entire process that can be\n",
    "considered by bank while issuing loan.\n"
   ]
  },
  {
   "cell_type": "code",
   "execution_count": null,
   "metadata": {},
   "outputs": [],
   "source": []
  }
 ],
 "metadata": {
  "kernelspec": {
   "display_name": "Python 3",
   "language": "python",
   "name": "python3"
  },
  "language_info": {
   "codemirror_mode": {
    "name": "ipython",
    "version": 3
   },
   "file_extension": ".py",
   "mimetype": "text/x-python",
   "name": "python",
   "nbconvert_exporter": "python",
   "pygments_lexer": "ipython3",
   "version": "3.8.3"
  },
  "toc": {
   "base_numbering": 1,
   "nav_menu": {},
   "number_sections": true,
   "sideBar": true,
   "skip_h1_title": false,
   "title_cell": "Table of Contents",
   "title_sidebar": "Contents",
   "toc_cell": false,
   "toc_position": {},
   "toc_section_display": true,
   "toc_window_display": true
  },
  "varInspector": {
   "cols": {
    "lenName": 16,
    "lenType": 16,
    "lenVar": 40
   },
   "kernels_config": {
    "python": {
     "delete_cmd_postfix": "",
     "delete_cmd_prefix": "del ",
     "library": "var_list.py",
     "varRefreshCmd": "print(var_dic_list())"
    },
    "r": {
     "delete_cmd_postfix": ") ",
     "delete_cmd_prefix": "rm(",
     "library": "var_list.r",
     "varRefreshCmd": "cat(var_dic_list()) "
    }
   },
   "types_to_exclude": [
    "module",
    "function",
    "builtin_function_or_method",
    "instance",
    "_Feature"
   ],
   "window_display": false
  }
 },
 "nbformat": 4,
 "nbformat_minor": 4
}
